{
 "cells": [
  {
   "cell_type": "code",
   "execution_count": 1,
   "id": "e8c403a6",
   "metadata": {
    "_cell_guid": "b1076dfc-b9ad-4769-8c92-a6c4dae69d19",
    "_uuid": "8f2839f25d086af736a60e9eeb907d3b93b6e0e5",
    "execution": {
     "iopub.execute_input": "2024-02-10T11:08:15.182354Z",
     "iopub.status.busy": "2024-02-10T11:08:15.181884Z",
     "iopub.status.idle": "2024-02-10T11:08:15.910305Z",
     "shell.execute_reply": "2024-02-10T11:08:15.909099Z"
    },
    "papermill": {
     "duration": 0.747055,
     "end_time": "2024-02-10T11:08:15.912747",
     "exception": false,
     "start_time": "2024-02-10T11:08:15.165692",
     "status": "completed"
    },
    "tags": []
   },
   "outputs": [
    {
     "name": "stdout",
     "output_type": "stream",
     "text": [
      "/kaggle/input/iyzico-datathon/sample_submission.csv\n",
      "/kaggle/input/iyzico-datathon/train.csv\n"
     ]
    }
   ],
   "source": [
    "# This Python 3 environment comes with many helpful analytics libraries installed\n",
    "# It is defined by the kaggle/python Docker image: https://github.com/kaggle/docker-python\n",
    "# For example, here's several helpful packages to load\n",
    "\n",
    "import numpy as np # linear algebra\n",
    "import pandas as pd # data processing, CSV file I/O (e.g. pd.read_csv)\n",
    "\n",
    "# Input data files are available in the read-only \"../input/\" directory\n",
    "# For example, running this (by clicking run or pressing Shift+Enter) will list all files under the input directory\n",
    "\n",
    "import os\n",
    "for dirname, _, filenames in os.walk('/kaggle/input'):\n",
    "    for filename in filenames:\n",
    "        print(os.path.join(dirname, filename))\n",
    "\n",
    "# You can write up to 20GB to the current directory (/kaggle/working/) that gets preserved as output when you create a version using \"Save & Run All\" \n",
    "# You can also write temporary files to /kaggle/temp/, but they won't be saved outside of the current session"
   ]
  },
  {
   "cell_type": "code",
   "execution_count": 2,
   "id": "3697c66d",
   "metadata": {
    "execution": {
     "iopub.execute_input": "2024-02-10T11:08:15.939218Z",
     "iopub.status.busy": "2024-02-10T11:08:15.938786Z",
     "iopub.status.idle": "2024-02-10T11:08:15.944080Z",
     "shell.execute_reply": "2024-02-10T11:08:15.942890Z"
    },
    "papermill": {
     "duration": 0.020897,
     "end_time": "2024-02-10T11:08:15.946435",
     "exception": false,
     "start_time": "2024-02-10T11:08:15.925538",
     "status": "completed"
    },
    "tags": []
   },
   "outputs": [],
   "source": [
    "import warnings\n",
    "\n",
    "# Float sayıları iki ondalık basamağa kadar göster\n",
    "pd.set_option('display.float_format', '{:.2f}'.format)\n",
    "\n",
    "# Uyarı (warning) mesajlarını gizle\n",
    "warnings.filterwarnings('ignore')"
   ]
  },
  {
   "cell_type": "code",
   "execution_count": 3,
   "id": "4647a3d7",
   "metadata": {
    "execution": {
     "iopub.execute_input": "2024-02-10T11:08:15.977653Z",
     "iopub.status.busy": "2024-02-10T11:08:15.977144Z",
     "iopub.status.idle": "2024-02-10T11:08:17.748346Z",
     "shell.execute_reply": "2024-02-10T11:08:17.747273Z"
    },
    "papermill": {
     "duration": 1.787998,
     "end_time": "2024-02-10T11:08:17.750990",
     "exception": false,
     "start_time": "2024-02-10T11:08:15.962992",
     "status": "completed"
    },
    "tags": []
   },
   "outputs": [],
   "source": [
    "# Kütüphanelerin import edilmesi\n",
    "import pandas as pd \n",
    "import seaborn as sns\n",
    "import matplotlib.pyplot as plt \n",
    "from sklearn.preprocessing import LabelEncoder\n",
    "import category_encoders as ce\n",
    "from sklearn.linear_model import LinearRegression\n",
    "from sklearn.ensemble import RandomForestRegressor\n",
    "from sklearn.metrics import mean_absolute_error\n",
    "from sklearn.feature_extraction import FeatureHasher\n",
    "from sklearn.model_selection import train_test_split\n",
    "from sklearn.preprocessing import StandardScaler\n",
    "from sklearn.model_selection import GridSearchCV"
   ]
  },
  {
   "cell_type": "code",
   "execution_count": 4,
   "id": "603d4542",
   "metadata": {
    "execution": {
     "iopub.execute_input": "2024-02-10T11:08:17.779111Z",
     "iopub.status.busy": "2024-02-10T11:08:17.778347Z",
     "iopub.status.idle": "2024-02-10T11:08:18.596209Z",
     "shell.execute_reply": "2024-02-10T11:08:18.595128Z"
    },
    "papermill": {
     "duration": 0.834912,
     "end_time": "2024-02-10T11:08:18.598800",
     "exception": false,
     "start_time": "2024-02-10T11:08:17.763888",
     "status": "completed"
    },
    "tags": []
   },
   "outputs": [],
   "source": [
    "# Verilerin okunması\n",
    "train = pd.read_csv(\"/kaggle/input/iyzico-datathon/train.csv\")\n",
    "submission = pd.read_csv(\"/kaggle/input/iyzico-datathon/sample_submission.csv\")"
   ]
  },
  {
   "cell_type": "code",
   "execution_count": 5,
   "id": "23f31abf",
   "metadata": {
    "execution": {
     "iopub.execute_input": "2024-02-10T11:08:18.632398Z",
     "iopub.status.busy": "2024-02-10T11:08:18.631914Z",
     "iopub.status.idle": "2024-02-10T11:08:18.674117Z",
     "shell.execute_reply": "2024-02-10T11:08:18.673004Z"
    },
    "papermill": {
     "duration": 0.060787,
     "end_time": "2024-02-10T11:08:18.676424",
     "exception": false,
     "start_time": "2024-02-10T11:08:18.615637",
     "status": "completed"
    },
    "tags": []
   },
   "outputs": [
    {
     "name": "stdout",
     "output_type": "stream",
     "text": [
      "<class 'pandas.core.frame.DataFrame'>\n",
      "RangeIndex: 78180 entries, 0 to 78179\n",
      "Data columns (total 2 columns):\n",
      " #   Column             Non-Null Count  Dtype \n",
      "---  ------             --------------  ----- \n",
      " 0   id                 78180 non-null  object\n",
      " 1   net_payment_count  78180 non-null  int64 \n",
      "dtypes: int64(1), object(1)\n",
      "memory usage: 1.2+ MB\n"
     ]
    }
   ],
   "source": [
    "submission.info()"
   ]
  },
  {
   "cell_type": "code",
   "execution_count": 6,
   "id": "b75b4b25",
   "metadata": {
    "execution": {
     "iopub.execute_input": "2024-02-10T11:08:18.703501Z",
     "iopub.status.busy": "2024-02-10T11:08:18.703189Z",
     "iopub.status.idle": "2024-02-10T11:08:18.716033Z",
     "shell.execute_reply": "2024-02-10T11:08:18.714736Z"
    },
    "papermill": {
     "duration": 0.029129,
     "end_time": "2024-02-10T11:08:18.719071",
     "exception": false,
     "start_time": "2024-02-10T11:08:18.689942",
     "status": "completed"
    },
    "tags": []
   },
   "outputs": [
    {
     "data": {
      "text/html": [
       "<div>\n",
       "<style scoped>\n",
       "    .dataframe tbody tr th:only-of-type {\n",
       "        vertical-align: middle;\n",
       "    }\n",
       "\n",
       "    .dataframe tbody tr th {\n",
       "        vertical-align: top;\n",
       "    }\n",
       "\n",
       "    .dataframe thead th {\n",
       "        text-align: right;\n",
       "    }\n",
       "</style>\n",
       "<table border=\"1\" class=\"dataframe\">\n",
       "  <thead>\n",
       "    <tr style=\"text-align: right;\">\n",
       "      <th></th>\n",
       "      <th>id</th>\n",
       "      <th>net_payment_count</th>\n",
       "    </tr>\n",
       "  </thead>\n",
       "  <tbody>\n",
       "    <tr>\n",
       "      <th>0</th>\n",
       "      <td>202311merchant_36004</td>\n",
       "      <td>0</td>\n",
       "    </tr>\n",
       "    <tr>\n",
       "      <th>1</th>\n",
       "      <td>202312merchant_36004</td>\n",
       "      <td>0</td>\n",
       "    </tr>\n",
       "    <tr>\n",
       "      <th>2</th>\n",
       "      <td>202310merchant_36004</td>\n",
       "      <td>0</td>\n",
       "    </tr>\n",
       "    <tr>\n",
       "      <th>3</th>\n",
       "      <td>202311merchant_23099</td>\n",
       "      <td>0</td>\n",
       "    </tr>\n",
       "    <tr>\n",
       "      <th>4</th>\n",
       "      <td>202312merchant_23099</td>\n",
       "      <td>0</td>\n",
       "    </tr>\n",
       "    <tr>\n",
       "      <th>5</th>\n",
       "      <td>202310merchant_23099</td>\n",
       "      <td>0</td>\n",
       "    </tr>\n",
       "    <tr>\n",
       "      <th>6</th>\n",
       "      <td>202311merchant_13105</td>\n",
       "      <td>0</td>\n",
       "    </tr>\n",
       "    <tr>\n",
       "      <th>7</th>\n",
       "      <td>202312merchant_13105</td>\n",
       "      <td>0</td>\n",
       "    </tr>\n",
       "    <tr>\n",
       "      <th>8</th>\n",
       "      <td>202310merchant_13105</td>\n",
       "      <td>0</td>\n",
       "    </tr>\n",
       "    <tr>\n",
       "      <th>9</th>\n",
       "      <td>202311merchant_32059</td>\n",
       "      <td>0</td>\n",
       "    </tr>\n",
       "  </tbody>\n",
       "</table>\n",
       "</div>"
      ],
      "text/plain": [
       "                     id  net_payment_count\n",
       "0  202311merchant_36004                  0\n",
       "1  202312merchant_36004                  0\n",
       "2  202310merchant_36004                  0\n",
       "3  202311merchant_23099                  0\n",
       "4  202312merchant_23099                  0\n",
       "5  202310merchant_23099                  0\n",
       "6  202311merchant_13105                  0\n",
       "7  202312merchant_13105                  0\n",
       "8  202310merchant_13105                  0\n",
       "9  202311merchant_32059                  0"
      ]
     },
     "execution_count": 6,
     "metadata": {},
     "output_type": "execute_result"
    }
   ],
   "source": [
    "submission.head(10)"
   ]
  },
  {
   "cell_type": "code",
   "execution_count": 7,
   "id": "bf36757a",
   "metadata": {
    "execution": {
     "iopub.execute_input": "2024-02-10T11:08:18.759777Z",
     "iopub.status.busy": "2024-02-10T11:08:18.759382Z",
     "iopub.status.idle": "2024-02-10T11:08:18.944537Z",
     "shell.execute_reply": "2024-02-10T11:08:18.943539Z"
    },
    "papermill": {
     "duration": 0.209765,
     "end_time": "2024-02-10T11:08:18.946874",
     "exception": false,
     "start_time": "2024-02-10T11:08:18.737109",
     "status": "completed"
    },
    "tags": []
   },
   "outputs": [
    {
     "name": "stdout",
     "output_type": "stream",
     "text": [
      "<class 'pandas.core.frame.DataFrame'>\n",
      "RangeIndex: 291142 entries, 0 to 291141\n",
      "Data columns (total 8 columns):\n",
      " #   Column                Non-Null Count   Dtype \n",
      "---  ------                --------------   ----- \n",
      " 0   merchant_id           291142 non-null  object\n",
      " 1   month_id              291142 non-null  int64 \n",
      " 2   merchant_source_name  291142 non-null  object\n",
      " 3   settlement_period     291142 non-null  object\n",
      " 4   working_type          291142 non-null  object\n",
      " 5   mcc_id                291142 non-null  object\n",
      " 6   merchant_segment      291142 non-null  object\n",
      " 7   net_payment_count     291142 non-null  int64 \n",
      "dtypes: int64(2), object(6)\n",
      "memory usage: 17.8+ MB\n"
     ]
    }
   ],
   "source": [
    "train.info()"
   ]
  },
  {
   "cell_type": "code",
   "execution_count": 8,
   "id": "ae08049e",
   "metadata": {
    "execution": {
     "iopub.execute_input": "2024-02-10T11:08:18.975452Z",
     "iopub.status.busy": "2024-02-10T11:08:18.974837Z",
     "iopub.status.idle": "2024-02-10T11:08:18.989397Z",
     "shell.execute_reply": "2024-02-10T11:08:18.987786Z"
    },
    "papermill": {
     "duration": 0.031329,
     "end_time": "2024-02-10T11:08:18.992440",
     "exception": false,
     "start_time": "2024-02-10T11:08:18.961111",
     "status": "completed"
    },
    "tags": []
   },
   "outputs": [
    {
     "data": {
      "text/html": [
       "<div>\n",
       "<style scoped>\n",
       "    .dataframe tbody tr th:only-of-type {\n",
       "        vertical-align: middle;\n",
       "    }\n",
       "\n",
       "    .dataframe tbody tr th {\n",
       "        vertical-align: top;\n",
       "    }\n",
       "\n",
       "    .dataframe thead th {\n",
       "        text-align: right;\n",
       "    }\n",
       "</style>\n",
       "<table border=\"1\" class=\"dataframe\">\n",
       "  <thead>\n",
       "    <tr style=\"text-align: right;\">\n",
       "      <th></th>\n",
       "      <th>merchant_id</th>\n",
       "      <th>month_id</th>\n",
       "      <th>merchant_source_name</th>\n",
       "      <th>settlement_period</th>\n",
       "      <th>working_type</th>\n",
       "      <th>mcc_id</th>\n",
       "      <th>merchant_segment</th>\n",
       "      <th>net_payment_count</th>\n",
       "    </tr>\n",
       "  </thead>\n",
       "  <tbody>\n",
       "    <tr>\n",
       "      <th>0</th>\n",
       "      <td>merchant_43992</td>\n",
       "      <td>202307</td>\n",
       "      <td>Merchant Source - 3</td>\n",
       "      <td>Settlement Period - 3</td>\n",
       "      <td>Working Type - 2</td>\n",
       "      <td>mcc_197</td>\n",
       "      <td>Segment - 2</td>\n",
       "      <td>15106</td>\n",
       "    </tr>\n",
       "    <tr>\n",
       "      <th>1</th>\n",
       "      <td>merchant_43992</td>\n",
       "      <td>202301</td>\n",
       "      <td>Merchant Source - 3</td>\n",
       "      <td>Settlement Period - 3</td>\n",
       "      <td>Working Type - 2</td>\n",
       "      <td>mcc_197</td>\n",
       "      <td>Segment - 2</td>\n",
       "      <td>16918</td>\n",
       "    </tr>\n",
       "    <tr>\n",
       "      <th>2</th>\n",
       "      <td>merchant_43992</td>\n",
       "      <td>202305</td>\n",
       "      <td>Merchant Source - 3</td>\n",
       "      <td>Settlement Period - 3</td>\n",
       "      <td>Working Type - 2</td>\n",
       "      <td>mcc_197</td>\n",
       "      <td>Segment - 2</td>\n",
       "      <td>13452</td>\n",
       "    </tr>\n",
       "    <tr>\n",
       "      <th>3</th>\n",
       "      <td>merchant_43992</td>\n",
       "      <td>202308</td>\n",
       "      <td>Merchant Source - 3</td>\n",
       "      <td>Settlement Period - 3</td>\n",
       "      <td>Working Type - 2</td>\n",
       "      <td>mcc_197</td>\n",
       "      <td>Segment - 2</td>\n",
       "      <td>16787</td>\n",
       "    </tr>\n",
       "    <tr>\n",
       "      <th>4</th>\n",
       "      <td>merchant_43992</td>\n",
       "      <td>202302</td>\n",
       "      <td>Merchant Source - 3</td>\n",
       "      <td>Settlement Period - 3</td>\n",
       "      <td>Working Type - 2</td>\n",
       "      <td>mcc_197</td>\n",
       "      <td>Segment - 2</td>\n",
       "      <td>12428</td>\n",
       "    </tr>\n",
       "    <tr>\n",
       "      <th>5</th>\n",
       "      <td>merchant_43992</td>\n",
       "      <td>202304</td>\n",
       "      <td>Merchant Source - 3</td>\n",
       "      <td>Settlement Period - 3</td>\n",
       "      <td>Working Type - 2</td>\n",
       "      <td>mcc_197</td>\n",
       "      <td>Segment - 2</td>\n",
       "      <td>15329</td>\n",
       "    </tr>\n",
       "    <tr>\n",
       "      <th>6</th>\n",
       "      <td>merchant_43992</td>\n",
       "      <td>202207</td>\n",
       "      <td>Merchant Source - 3</td>\n",
       "      <td>Settlement Period - 3</td>\n",
       "      <td>Working Type - 2</td>\n",
       "      <td>mcc_197</td>\n",
       "      <td>Segment - 2</td>\n",
       "      <td>7225</td>\n",
       "    </tr>\n",
       "    <tr>\n",
       "      <th>7</th>\n",
       "      <td>merchant_43992</td>\n",
       "      <td>202208</td>\n",
       "      <td>Merchant Source - 3</td>\n",
       "      <td>Settlement Period - 3</td>\n",
       "      <td>Working Type - 2</td>\n",
       "      <td>mcc_197</td>\n",
       "      <td>Segment - 2</td>\n",
       "      <td>10056</td>\n",
       "    </tr>\n",
       "    <tr>\n",
       "      <th>8</th>\n",
       "      <td>merchant_43992</td>\n",
       "      <td>202210</td>\n",
       "      <td>Merchant Source - 3</td>\n",
       "      <td>Settlement Period - 3</td>\n",
       "      <td>Working Type - 2</td>\n",
       "      <td>mcc_197</td>\n",
       "      <td>Segment - 2</td>\n",
       "      <td>14413</td>\n",
       "    </tr>\n",
       "    <tr>\n",
       "      <th>9</th>\n",
       "      <td>merchant_43992</td>\n",
       "      <td>202211</td>\n",
       "      <td>Merchant Source - 3</td>\n",
       "      <td>Settlement Period - 3</td>\n",
       "      <td>Working Type - 2</td>\n",
       "      <td>mcc_197</td>\n",
       "      <td>Segment - 2</td>\n",
       "      <td>13893</td>\n",
       "    </tr>\n",
       "  </tbody>\n",
       "</table>\n",
       "</div>"
      ],
      "text/plain": [
       "      merchant_id  month_id merchant_source_name      settlement_period  \\\n",
       "0  merchant_43992    202307  Merchant Source - 3  Settlement Period - 3   \n",
       "1  merchant_43992    202301  Merchant Source - 3  Settlement Period - 3   \n",
       "2  merchant_43992    202305  Merchant Source - 3  Settlement Period - 3   \n",
       "3  merchant_43992    202308  Merchant Source - 3  Settlement Period - 3   \n",
       "4  merchant_43992    202302  Merchant Source - 3  Settlement Period - 3   \n",
       "5  merchant_43992    202304  Merchant Source - 3  Settlement Period - 3   \n",
       "6  merchant_43992    202207  Merchant Source - 3  Settlement Period - 3   \n",
       "7  merchant_43992    202208  Merchant Source - 3  Settlement Period - 3   \n",
       "8  merchant_43992    202210  Merchant Source - 3  Settlement Period - 3   \n",
       "9  merchant_43992    202211  Merchant Source - 3  Settlement Period - 3   \n",
       "\n",
       "       working_type   mcc_id merchant_segment  net_payment_count  \n",
       "0  Working Type - 2  mcc_197      Segment - 2              15106  \n",
       "1  Working Type - 2  mcc_197      Segment - 2              16918  \n",
       "2  Working Type - 2  mcc_197      Segment - 2              13452  \n",
       "3  Working Type - 2  mcc_197      Segment - 2              16787  \n",
       "4  Working Type - 2  mcc_197      Segment - 2              12428  \n",
       "5  Working Type - 2  mcc_197      Segment - 2              15329  \n",
       "6  Working Type - 2  mcc_197      Segment - 2               7225  \n",
       "7  Working Type - 2  mcc_197      Segment - 2              10056  \n",
       "8  Working Type - 2  mcc_197      Segment - 2              14413  \n",
       "9  Working Type - 2  mcc_197      Segment - 2              13893  "
      ]
     },
     "execution_count": 8,
     "metadata": {},
     "output_type": "execute_result"
    }
   ],
   "source": [
    "train.head(10)"
   ]
  },
  {
   "cell_type": "code",
   "execution_count": 9,
   "id": "a891c0ed",
   "metadata": {
    "execution": {
     "iopub.execute_input": "2024-02-10T11:08:19.027792Z",
     "iopub.status.busy": "2024-02-10T11:08:19.027426Z",
     "iopub.status.idle": "2024-02-10T11:08:19.379873Z",
     "shell.execute_reply": "2024-02-10T11:08:19.378840Z"
    },
    "papermill": {
     "duration": 0.372833,
     "end_time": "2024-02-10T11:08:19.382483",
     "exception": false,
     "start_time": "2024-02-10T11:08:19.009650",
     "status": "completed"
    },
    "tags": []
   },
   "outputs": [
    {
     "data": {
      "text/html": [
       "<div>\n",
       "<style scoped>\n",
       "    .dataframe tbody tr th:only-of-type {\n",
       "        vertical-align: middle;\n",
       "    }\n",
       "\n",
       "    .dataframe tbody tr th {\n",
       "        vertical-align: top;\n",
       "    }\n",
       "\n",
       "    .dataframe thead th {\n",
       "        text-align: right;\n",
       "    }\n",
       "</style>\n",
       "<table border=\"1\" class=\"dataframe\">\n",
       "  <thead>\n",
       "    <tr style=\"text-align: right;\">\n",
       "      <th></th>\n",
       "      <th>merchant_id</th>\n",
       "      <th>month_id</th>\n",
       "      <th>net_payment_count</th>\n",
       "      <th>merchant_source_name</th>\n",
       "      <th>settlement_period</th>\n",
       "      <th>working_type</th>\n",
       "      <th>mcc_id</th>\n",
       "      <th>merchant_segment</th>\n",
       "    </tr>\n",
       "  </thead>\n",
       "  <tbody>\n",
       "    <tr>\n",
       "      <th>0</th>\n",
       "      <td>merchant_36004</td>\n",
       "      <td>202311</td>\n",
       "      <td>NaN</td>\n",
       "      <td>Merchant Source - 1</td>\n",
       "      <td>Settlement Period - 1</td>\n",
       "      <td>Working Type - 2</td>\n",
       "      <td>mcc_144</td>\n",
       "      <td>Segment - 4</td>\n",
       "    </tr>\n",
       "    <tr>\n",
       "      <th>1</th>\n",
       "      <td>merchant_36004</td>\n",
       "      <td>202312</td>\n",
       "      <td>NaN</td>\n",
       "      <td>Merchant Source - 1</td>\n",
       "      <td>Settlement Period - 1</td>\n",
       "      <td>Working Type - 2</td>\n",
       "      <td>mcc_144</td>\n",
       "      <td>Segment - 4</td>\n",
       "    </tr>\n",
       "    <tr>\n",
       "      <th>2</th>\n",
       "      <td>merchant_36004</td>\n",
       "      <td>202310</td>\n",
       "      <td>NaN</td>\n",
       "      <td>Merchant Source - 1</td>\n",
       "      <td>Settlement Period - 1</td>\n",
       "      <td>Working Type - 2</td>\n",
       "      <td>mcc_144</td>\n",
       "      <td>Segment - 4</td>\n",
       "    </tr>\n",
       "    <tr>\n",
       "      <th>3</th>\n",
       "      <td>merchant_23099</td>\n",
       "      <td>202311</td>\n",
       "      <td>NaN</td>\n",
       "      <td>Merchant Source - 1</td>\n",
       "      <td>Settlement Period - 1</td>\n",
       "      <td>Working Type - 5</td>\n",
       "      <td>mcc_3</td>\n",
       "      <td>Segment - 4</td>\n",
       "    </tr>\n",
       "    <tr>\n",
       "      <th>4</th>\n",
       "      <td>merchant_23099</td>\n",
       "      <td>202312</td>\n",
       "      <td>NaN</td>\n",
       "      <td>Merchant Source - 1</td>\n",
       "      <td>Settlement Period - 1</td>\n",
       "      <td>Working Type - 5</td>\n",
       "      <td>mcc_3</td>\n",
       "      <td>Segment - 4</td>\n",
       "    </tr>\n",
       "  </tbody>\n",
       "</table>\n",
       "</div>"
      ],
      "text/plain": [
       "      merchant_id month_id  net_payment_count merchant_source_name  \\\n",
       "0  merchant_36004   202311                NaN  Merchant Source - 1   \n",
       "1  merchant_36004   202312                NaN  Merchant Source - 1   \n",
       "2  merchant_36004   202310                NaN  Merchant Source - 1   \n",
       "3  merchant_23099   202311                NaN  Merchant Source - 1   \n",
       "4  merchant_23099   202312                NaN  Merchant Source - 1   \n",
       "\n",
       "       settlement_period      working_type   mcc_id merchant_segment  \n",
       "0  Settlement Period - 1  Working Type - 2  mcc_144      Segment - 4  \n",
       "1  Settlement Period - 1  Working Type - 2  mcc_144      Segment - 4  \n",
       "2  Settlement Period - 1  Working Type - 2  mcc_144      Segment - 4  \n",
       "3  Settlement Period - 1  Working Type - 5    mcc_3      Segment - 4  \n",
       "4  Settlement Period - 1  Working Type - 5    mcc_3      Segment - 4  "
      ]
     },
     "execution_count": 9,
     "metadata": {},
     "output_type": "execute_result"
    }
   ],
   "source": [
    "test = submission.copy()\n",
    "test[\"month_id\"] = test[\"id\"].apply(lambda x: x[:6])\n",
    "test[\"merchant_id\"] = test[\"id\"].apply(lambda x: x[6:])\n",
    "test[\"net_payment_count\"] = np.nan\n",
    "test = test[[\"merchant_id\", \"month_id\", \"net_payment_count\"]]\n",
    "\n",
    "test = test.merge(\n",
    "    train[\n",
    "        [\n",
    "            \"merchant_id\",\n",
    "            \"merchant_source_name\",\n",
    "            \"settlement_period\",\n",
    "            \"working_type\",\n",
    "            \"mcc_id\",\n",
    "            \"merchant_segment\",\n",
    "        ]\n",
    "    ].drop_duplicates(),\n",
    "    on=[\"merchant_id\"],\n",
    "    how=\"left\",\n",
    ")\n",
    "\n",
    "test.head()"
   ]
  },
  {
   "cell_type": "code",
   "execution_count": 10,
   "id": "710c2d3e",
   "metadata": {
    "execution": {
     "iopub.execute_input": "2024-02-10T11:08:19.414795Z",
     "iopub.status.busy": "2024-02-10T11:08:19.414177Z",
     "iopub.status.idle": "2024-02-10T11:08:19.684010Z",
     "shell.execute_reply": "2024-02-10T11:08:19.682974Z"
    },
    "papermill": {
     "duration": 0.287951,
     "end_time": "2024-02-10T11:08:19.686369",
     "exception": false,
     "start_time": "2024-02-10T11:08:19.398418",
     "status": "completed"
    },
    "tags": []
   },
   "outputs": [],
   "source": [
    "train['period'] = pd.to_datetime(train['month_id'], format='%Y%m')\n",
    "\n",
    "# Yeni tarih sütunları ekleyebilirsiniz (isteğe bağlı)\n",
    "train['year'] = train['period'].dt.year\n",
    "train['month'] = train['period'].dt.month\n",
    "\n",
    "# 'month_id' sütununu 'YYYYMM' formatında bir tarih sütunu olarak dönüştürme\n",
    "train['month_id'] = train['month_id'].astype(str)"
   ]
  },
  {
   "cell_type": "code",
   "execution_count": 11,
   "id": "4cee8fd7",
   "metadata": {
    "execution": {
     "iopub.execute_input": "2024-02-10T11:08:19.756994Z",
     "iopub.status.busy": "2024-02-10T11:08:19.756648Z",
     "iopub.status.idle": "2024-02-10T11:08:19.788737Z",
     "shell.execute_reply": "2024-02-10T11:08:19.787864Z"
    },
    "papermill": {
     "duration": 0.090553,
     "end_time": "2024-02-10T11:08:19.790657",
     "exception": false,
     "start_time": "2024-02-10T11:08:19.700104",
     "status": "completed"
    },
    "tags": []
   },
   "outputs": [],
   "source": [
    "test['period'] = pd.to_datetime(test['month_id'], format='%Y%m')\n",
    "\n",
    "# Yeni tarih sütunları ekleyebilirsiniz (isteğe bağlı)\n",
    "test['year'] = test['period'].dt.year\n",
    "test['month'] = test['period'].dt.month\n",
    "\n",
    "# 'month_id' sütununu 'YYYYMM' formatında bir tarih sütunu olarak dönüştürme\n",
    "test['month_id'] = test['month_id'].astype(str)"
   ]
  },
  {
   "cell_type": "code",
   "execution_count": 12,
   "id": "02e81810",
   "metadata": {
    "execution": {
     "iopub.execute_input": "2024-02-10T11:08:19.820209Z",
     "iopub.status.busy": "2024-02-10T11:08:19.819885Z",
     "iopub.status.idle": "2024-02-10T11:08:19.835018Z",
     "shell.execute_reply": "2024-02-10T11:08:19.834052Z"
    },
    "papermill": {
     "duration": 0.032713,
     "end_time": "2024-02-10T11:08:19.837339",
     "exception": false,
     "start_time": "2024-02-10T11:08:19.804626",
     "status": "completed"
    },
    "tags": []
   },
   "outputs": [
    {
     "data": {
      "text/html": [
       "<div>\n",
       "<style scoped>\n",
       "    .dataframe tbody tr th:only-of-type {\n",
       "        vertical-align: middle;\n",
       "    }\n",
       "\n",
       "    .dataframe tbody tr th {\n",
       "        vertical-align: top;\n",
       "    }\n",
       "\n",
       "    .dataframe thead th {\n",
       "        text-align: right;\n",
       "    }\n",
       "</style>\n",
       "<table border=\"1\" class=\"dataframe\">\n",
       "  <thead>\n",
       "    <tr style=\"text-align: right;\">\n",
       "      <th></th>\n",
       "      <th>merchant_id</th>\n",
       "      <th>month_id</th>\n",
       "      <th>merchant_source_name</th>\n",
       "      <th>settlement_period</th>\n",
       "      <th>working_type</th>\n",
       "      <th>mcc_id</th>\n",
       "      <th>merchant_segment</th>\n",
       "      <th>net_payment_count</th>\n",
       "      <th>period</th>\n",
       "      <th>year</th>\n",
       "      <th>month</th>\n",
       "    </tr>\n",
       "  </thead>\n",
       "  <tbody>\n",
       "    <tr>\n",
       "      <th>0</th>\n",
       "      <td>merchant_43992</td>\n",
       "      <td>202307</td>\n",
       "      <td>Merchant Source - 3</td>\n",
       "      <td>Settlement Period - 3</td>\n",
       "      <td>Working Type - 2</td>\n",
       "      <td>mcc_197</td>\n",
       "      <td>Segment - 2</td>\n",
       "      <td>15106</td>\n",
       "      <td>2023-07-01</td>\n",
       "      <td>2023</td>\n",
       "      <td>7</td>\n",
       "    </tr>\n",
       "    <tr>\n",
       "      <th>1</th>\n",
       "      <td>merchant_43992</td>\n",
       "      <td>202301</td>\n",
       "      <td>Merchant Source - 3</td>\n",
       "      <td>Settlement Period - 3</td>\n",
       "      <td>Working Type - 2</td>\n",
       "      <td>mcc_197</td>\n",
       "      <td>Segment - 2</td>\n",
       "      <td>16918</td>\n",
       "      <td>2023-01-01</td>\n",
       "      <td>2023</td>\n",
       "      <td>1</td>\n",
       "    </tr>\n",
       "    <tr>\n",
       "      <th>2</th>\n",
       "      <td>merchant_43992</td>\n",
       "      <td>202305</td>\n",
       "      <td>Merchant Source - 3</td>\n",
       "      <td>Settlement Period - 3</td>\n",
       "      <td>Working Type - 2</td>\n",
       "      <td>mcc_197</td>\n",
       "      <td>Segment - 2</td>\n",
       "      <td>13452</td>\n",
       "      <td>2023-05-01</td>\n",
       "      <td>2023</td>\n",
       "      <td>5</td>\n",
       "    </tr>\n",
       "    <tr>\n",
       "      <th>3</th>\n",
       "      <td>merchant_43992</td>\n",
       "      <td>202308</td>\n",
       "      <td>Merchant Source - 3</td>\n",
       "      <td>Settlement Period - 3</td>\n",
       "      <td>Working Type - 2</td>\n",
       "      <td>mcc_197</td>\n",
       "      <td>Segment - 2</td>\n",
       "      <td>16787</td>\n",
       "      <td>2023-08-01</td>\n",
       "      <td>2023</td>\n",
       "      <td>8</td>\n",
       "    </tr>\n",
       "    <tr>\n",
       "      <th>4</th>\n",
       "      <td>merchant_43992</td>\n",
       "      <td>202302</td>\n",
       "      <td>Merchant Source - 3</td>\n",
       "      <td>Settlement Period - 3</td>\n",
       "      <td>Working Type - 2</td>\n",
       "      <td>mcc_197</td>\n",
       "      <td>Segment - 2</td>\n",
       "      <td>12428</td>\n",
       "      <td>2023-02-01</td>\n",
       "      <td>2023</td>\n",
       "      <td>2</td>\n",
       "    </tr>\n",
       "  </tbody>\n",
       "</table>\n",
       "</div>"
      ],
      "text/plain": [
       "      merchant_id month_id merchant_source_name      settlement_period  \\\n",
       "0  merchant_43992   202307  Merchant Source - 3  Settlement Period - 3   \n",
       "1  merchant_43992   202301  Merchant Source - 3  Settlement Period - 3   \n",
       "2  merchant_43992   202305  Merchant Source - 3  Settlement Period - 3   \n",
       "3  merchant_43992   202308  Merchant Source - 3  Settlement Period - 3   \n",
       "4  merchant_43992   202302  Merchant Source - 3  Settlement Period - 3   \n",
       "\n",
       "       working_type   mcc_id merchant_segment  net_payment_count     period  \\\n",
       "0  Working Type - 2  mcc_197      Segment - 2              15106 2023-07-01   \n",
       "1  Working Type - 2  mcc_197      Segment - 2              16918 2023-01-01   \n",
       "2  Working Type - 2  mcc_197      Segment - 2              13452 2023-05-01   \n",
       "3  Working Type - 2  mcc_197      Segment - 2              16787 2023-08-01   \n",
       "4  Working Type - 2  mcc_197      Segment - 2              12428 2023-02-01   \n",
       "\n",
       "   year  month  \n",
       "0  2023      7  \n",
       "1  2023      1  \n",
       "2  2023      5  \n",
       "3  2023      8  \n",
       "4  2023      2  "
      ]
     },
     "execution_count": 12,
     "metadata": {},
     "output_type": "execute_result"
    }
   ],
   "source": [
    "train.head()"
   ]
  },
  {
   "cell_type": "code",
   "execution_count": 13,
   "id": "b9f69580",
   "metadata": {
    "execution": {
     "iopub.execute_input": "2024-02-10T11:08:19.866558Z",
     "iopub.status.busy": "2024-02-10T11:08:19.866228Z",
     "iopub.status.idle": "2024-02-10T11:08:25.315303Z",
     "shell.execute_reply": "2024-02-10T11:08:25.314291Z"
    },
    "papermill": {
     "duration": 5.466169,
     "end_time": "2024-02-10T11:08:25.317707",
     "exception": false,
     "start_time": "2024-02-10T11:08:19.851538",
     "status": "completed"
    },
    "tags": []
   },
   "outputs": [
    {
     "data": {
      "image/png": "[encoded data removed]",
      "text/plain": [
       "<Figure size 1200x600 with 1 Axes>"
      ]
     },
     "metadata": {},
     "output_type": "display_data"
    }
   ],
   "source": [
    "# Month_id sütunu için bar grafiği (küçükten büyüğe sıralı)\n",
    "plt.figure(figsize=(12, 6))\n",
    "sns.barplot(x='month_id', y='net_payment_count', data=train, order=sorted(train['month_id'].unique(), key=lambda x: int(x)))\n",
    "plt.title('Aylara Göre Net Payment Count Değişimi')\n",
    "plt.xticks(rotation=45)\n",
    "plt.show()"
   ]
  },
  {
   "cell_type": "code",
   "execution_count": 14,
   "id": "467281b1",
   "metadata": {
    "execution": {
     "iopub.execute_input": "2024-02-10T11:08:25.350852Z",
     "iopub.status.busy": "2024-02-10T11:08:25.350033Z",
     "iopub.status.idle": "2024-02-10T11:08:25.812445Z",
     "shell.execute_reply": "2024-02-10T11:08:25.811325Z"
    },
    "papermill": {
     "duration": 0.481515,
     "end_time": "2024-02-10T11:08:25.815128",
     "exception": false,
     "start_time": "2024-02-10T11:08:25.333613",
     "status": "completed"
    },
    "tags": []
   },
   "outputs": [],
   "source": [
    "# year ve month sütunlarını \"object\" olarak dönüştürme\n",
    "train['year'] = train['year'].astype(str)\n",
    "train['month'] = train['month'].astype(str)\n",
    "\n",
    "# period sütununu silme\n",
    "train.drop(columns=['period'], inplace=True)  # inplace=True ile veri setinde doğrudan değişiklik yapılır"
   ]
  },
  {
   "cell_type": "code",
   "execution_count": 15,
   "id": "dacd323f",
   "metadata": {
    "execution": {
     "iopub.execute_input": "2024-02-10T11:08:25.849113Z",
     "iopub.status.busy": "2024-02-10T11:08:25.848750Z",
     "iopub.status.idle": "2024-02-10T11:08:25.979328Z",
     "shell.execute_reply": "2024-02-10T11:08:25.978192Z"
    },
    "papermill": {
     "duration": 0.15059,
     "end_time": "2024-02-10T11:08:25.981986",
     "exception": false,
     "start_time": "2024-02-10T11:08:25.831396",
     "status": "completed"
    },
    "tags": []
   },
   "outputs": [],
   "source": [
    "# year ve month sütunlarını \"object\" olarak dönüştürme\n",
    "test['year'] = test['year'].astype(str)\n",
    "test['month'] = test['month'].astype(str)\n",
    "\n",
    "# period sütununu silme\n",
    "test.drop(columns=['period'], inplace=True)"
   ]
  },
  {
   "cell_type": "code",
   "execution_count": 16,
   "id": "34ef60de",
   "metadata": {
    "execution": {
     "iopub.execute_input": "2024-02-10T11:08:26.015835Z",
     "iopub.status.busy": "2024-02-10T11:08:26.014856Z",
     "iopub.status.idle": "2024-02-10T11:08:33.866875Z",
     "shell.execute_reply": "2024-02-10T11:08:33.865956Z"
    },
    "papermill": {
     "duration": 7.871406,
     "end_time": "2024-02-10T11:08:33.869106",
     "exception": false,
     "start_time": "2024-02-10T11:08:25.997700",
     "status": "completed"
    },
    "tags": []
   },
   "outputs": [
    {
     "data": {
      "image/png": "[encoded data removed]",
      "text/plain": [
       "<Figure size 1200x600 with 1 Axes>"
      ]
     },
     "metadata": {},
     "output_type": "display_data"
    },
    {
     "data": {
      "image/png": "[encoded data removed]",
      "text/plain": [
       "<Figure size 1200x600 with 1 Axes>"
      ]
     },
     "metadata": {},
     "output_type": "display_data"
    }
   ],
   "source": [
    "# Year sütunu için bar grafiği (küçükten büyüğe sıralı)\n",
    "plt.figure(figsize=(12, 6))\n",
    "sns.barplot(x='year', y='net_payment_count', data=train, order=sorted(train['year'].unique()))\n",
    "plt.title('Yıllara Göre Net Payment Count Değişimi')\n",
    "plt.show()\n",
    "\n",
    "# Month sütunu için bar grafiği (küçükten büyüğe sıralı)\n",
    "plt.figure(figsize=(12, 6))\n",
    "sns.barplot(x='month', y='net_payment_count', data=train, order=sorted(train['month'].unique(), key=lambda x: int(x)))\n",
    "plt.title('Aylara Göre Net Payment Count Değişimi')\n",
    "plt.show()"
   ]
  },
  {
   "cell_type": "code",
   "execution_count": 17,
   "id": "10b96713",
   "metadata": {
    "execution": {
     "iopub.execute_input": "2024-02-10T11:08:33.904048Z",
     "iopub.status.busy": "2024-02-10T11:08:33.903690Z",
     "iopub.status.idle": "2024-02-10T11:08:33.928280Z",
     "shell.execute_reply": "2024-02-10T11:08:33.927220Z"
    },
    "papermill": {
     "duration": 0.045212,
     "end_time": "2024-02-10T11:08:33.930914",
     "exception": false,
     "start_time": "2024-02-10T11:08:33.885702",
     "status": "completed"
    },
    "tags": []
   },
   "outputs": [
    {
     "data": {
      "text/html": [
       "<div>\n",
       "<style scoped>\n",
       "    .dataframe tbody tr th:only-of-type {\n",
       "        vertical-align: middle;\n",
       "    }\n",
       "\n",
       "    .dataframe tbody tr th {\n",
       "        vertical-align: top;\n",
       "    }\n",
       "\n",
       "    .dataframe thead th {\n",
       "        text-align: right;\n",
       "    }\n",
       "</style>\n",
       "<table border=\"1\" class=\"dataframe\">\n",
       "  <thead>\n",
       "    <tr style=\"text-align: right;\">\n",
       "      <th></th>\n",
       "      <th>count</th>\n",
       "      <th>mean</th>\n",
       "      <th>std</th>\n",
       "      <th>min</th>\n",
       "      <th>25%</th>\n",
       "      <th>50%</th>\n",
       "      <th>75%</th>\n",
       "      <th>max</th>\n",
       "    </tr>\n",
       "  </thead>\n",
       "  <tbody>\n",
       "    <tr>\n",
       "      <th>net_payment_count</th>\n",
       "      <td>291142.00</td>\n",
       "      <td>415.38</td>\n",
       "      <td>10820.67</td>\n",
       "      <td>-1433.00</td>\n",
       "      <td>4.00</td>\n",
       "      <td>6.00</td>\n",
       "      <td>14.00</td>\n",
       "      <td>1160429.00</td>\n",
       "    </tr>\n",
       "  </tbody>\n",
       "</table>\n",
       "</div>"
      ],
      "text/plain": [
       "                      count   mean      std      min  25%  50%   75%  \\\n",
       "net_payment_count 291142.00 415.38 10820.67 -1433.00 4.00 6.00 14.00   \n",
       "\n",
       "                         max  \n",
       "net_payment_count 1160429.00  "
      ]
     },
     "execution_count": 17,
     "metadata": {},
     "output_type": "execute_result"
    }
   ],
   "source": [
    "train.describe().T"
   ]
  },
  {
   "cell_type": "code",
   "execution_count": 18,
   "id": "33326d88",
   "metadata": {
    "execution": {
     "iopub.execute_input": "2024-02-10T11:08:33.969303Z",
     "iopub.status.busy": "2024-02-10T11:08:33.968963Z",
     "iopub.status.idle": "2024-02-10T11:08:34.574758Z",
     "shell.execute_reply": "2024-02-10T11:08:34.573772Z"
    },
    "papermill": {
     "duration": 0.627539,
     "end_time": "2024-02-10T11:08:34.576993",
     "exception": false,
     "start_time": "2024-02-10T11:08:33.949454",
     "status": "completed"
    },
    "tags": []
   },
   "outputs": [
    {
     "data": {
      "image/png": "[encoded data removed]",
      "text/plain": [
       "<Figure size 1000x600 with 1 Axes>"
      ]
     },
     "metadata": {},
     "output_type": "display_data"
    },
    {
     "data": {
      "image/png": "[encoded data removed]",
      "text/plain": [
       "<Figure size 1000x600 with 1 Axes>"
      ]
     },
     "metadata": {},
     "output_type": "display_data"
    }
   ],
   "source": [
    "# Kutu grafiği\n",
    "plt.figure(figsize=(10, 6))\n",
    "sns.boxplot(x=train['net_payment_count'])\n",
    "plt.title('Boxplot of net_payment_count')\n",
    "plt.show()\n",
    "\n",
    "# Log-transform uygulayarak kutu grafiği\n",
    "plt.figure(figsize=(10, 6))\n",
    "sns.boxplot(x=np.log1p(train['net_payment_count']))\n",
    "plt.title('Boxplot of log-transformed net_payment_count')\n",
    "plt.show()"
   ]
  },
  {
   "cell_type": "code",
   "execution_count": 19,
   "id": "3cd1c799",
   "metadata": {
    "execution": {
     "iopub.execute_input": "2024-02-10T11:08:34.613038Z",
     "iopub.status.busy": "2024-02-10T11:08:34.612699Z",
     "iopub.status.idle": "2024-02-10T11:13:38.225731Z",
     "shell.execute_reply": "2024-02-10T11:13:38.224808Z"
    },
    "papermill": {
     "duration": 303.63441,
     "end_time": "2024-02-10T11:13:38.228502",
     "exception": false,
     "start_time": "2024-02-10T11:08:34.594092",
     "status": "completed"
    },
    "tags": []
   },
   "outputs": [],
   "source": [
    "# Z-Score hesaplama fonksiyonunu tanımla\n",
    "def calculate_z_scores(series):\n",
    "    return (series - series.mean()) / series.std()\n",
    "\n",
    "# Merchant_id'leri filtrele (30 ve daha fazla adet olanları al)\n",
    "selected_merchants = train['merchant_id'].value_counts()[train['merchant_id'].value_counts() >= 30].index\n",
    "\n",
    "# Her bir seçili merchant için işlem yap\n",
    "for merchant_id in selected_merchants:\n",
    "    # Merchant'a ait net_payment_count'ları al\n",
    "    merchant_data = train[train['merchant_id'] == merchant_id]['net_payment_count']\n",
    "    \n",
    "    # Z-Score hesapla\n",
    "    z_scores_merchant = calculate_z_scores(merchant_data)\n",
    "    \n",
    "    # Aykırı değerleri belirle\n",
    "    outliers_merchant = (z_scores_merchant < -3) | (z_scores_merchant > 3)\n",
    "    \n",
    "    # Aykırı değer sayısını ve istatistiksel özeti yazdır\n",
    "#     print(f\"Aykırı değer sayısı (Z skoru) - Merchant {merchant_id}: {outliers_merchant.sum()}\")\n",
    "#     print(train.loc[train['merchant_id'] == merchant_id, 'net_payment_count'].describe())\n",
    "    \n",
    "    # Aykırı değerleri hariç tut\n",
    "    filtered_data_merchant = merchant_data[~outliers_merchant]\n",
    "    \n",
    "    # Aykırı değerlere sahip olmayan veri setinin describe'ını incele\n",
    "#     print(filtered_data_merchant.describe())\n",
    "    \n",
    "    # Aykırı değerlere sahip orijinal veri setine uygula\n",
    "    train.loc[train['merchant_id'] == merchant_id, 'net_payment_count'] = filtered_data_merchant.mean()"
   ]
  },
  {
   "cell_type": "code",
   "execution_count": 20,
   "id": "f54b0124",
   "metadata": {
    "execution": {
     "iopub.execute_input": "2024-02-10T11:13:38.262398Z",
     "iopub.status.busy": "2024-02-10T11:13:38.262102Z",
     "iopub.status.idle": "2024-02-10T11:13:38.396100Z",
     "shell.execute_reply": "2024-02-10T11:13:38.395208Z"
    },
    "papermill": {
     "duration": 0.153279,
     "end_time": "2024-02-10T11:13:38.398377",
     "exception": false,
     "start_time": "2024-02-10T11:13:38.245098",
     "status": "completed"
    },
    "tags": []
   },
   "outputs": [],
   "source": [
    "# Merchant_id'leri filtrele (30'den daha az adet olanları al)\n",
    "less_than_20_merchants = train['merchant_id'].value_counts()[train['merchant_id'].value_counts() < 30].index\n",
    "\n",
    "# Ana veri setinin net_payment_count üzerindeki z-score'larını hesapla\n",
    "z_scores_all = calculate_z_scores(train['net_payment_count'])\n",
    "\n",
    "# 25'ten az gözlem içeren şirketlerin aykırı değerleri ana veri setinin mean() değeri ile değiştir\n",
    "train.loc[train['merchant_id'].isin(less_than_20_merchants), 'net_payment_count'] = train['net_payment_count'].median()"
   ]
  },
  {
   "cell_type": "code",
   "execution_count": 21,
   "id": "fb9c0a3c",
   "metadata": {
    "execution": {
     "iopub.execute_input": "2024-02-10T11:13:38.433760Z",
     "iopub.status.busy": "2024-02-10T11:13:38.433433Z",
     "iopub.status.idle": "2024-02-10T11:13:38.453633Z",
     "shell.execute_reply": "2024-02-10T11:13:38.452728Z"
    },
    "papermill": {
     "duration": 0.040506,
     "end_time": "2024-02-10T11:13:38.455863",
     "exception": false,
     "start_time": "2024-02-10T11:13:38.415357",
     "status": "completed"
    },
    "tags": []
   },
   "outputs": [
    {
     "data": {
      "text/html": [
       "<div>\n",
       "<style scoped>\n",
       "    .dataframe tbody tr th:only-of-type {\n",
       "        vertical-align: middle;\n",
       "    }\n",
       "\n",
       "    .dataframe tbody tr th {\n",
       "        vertical-align: top;\n",
       "    }\n",
       "\n",
       "    .dataframe thead th {\n",
       "        text-align: right;\n",
       "    }\n",
       "</style>\n",
       "<table border=\"1\" class=\"dataframe\">\n",
       "  <thead>\n",
       "    <tr style=\"text-align: right;\">\n",
       "      <th></th>\n",
       "      <th>count</th>\n",
       "      <th>mean</th>\n",
       "      <th>std</th>\n",
       "      <th>min</th>\n",
       "      <th>25%</th>\n",
       "      <th>50%</th>\n",
       "      <th>75%</th>\n",
       "      <th>max</th>\n",
       "    </tr>\n",
       "  </thead>\n",
       "  <tbody>\n",
       "    <tr>\n",
       "      <th>net_payment_count</th>\n",
       "      <td>291142.00</td>\n",
       "      <td>367.40</td>\n",
       "      <td>8615.28</td>\n",
       "      <td>3.23</td>\n",
       "      <td>6.00</td>\n",
       "      <td>6.00</td>\n",
       "      <td>8.07</td>\n",
       "      <td>489406.31</td>\n",
       "    </tr>\n",
       "  </tbody>\n",
       "</table>\n",
       "</div>"
      ],
      "text/plain": [
       "                      count   mean     std  min  25%  50%  75%       max\n",
       "net_payment_count 291142.00 367.40 8615.28 3.23 6.00 6.00 8.07 489406.31"
      ]
     },
     "execution_count": 21,
     "metadata": {},
     "output_type": "execute_result"
    }
   ],
   "source": [
    "train.describe().T"
   ]
  },
  {
   "cell_type": "code",
   "execution_count": 22,
   "id": "af36e00c",
   "metadata": {
    "execution": {
     "iopub.execute_input": "2024-02-10T11:13:38.493365Z",
     "iopub.status.busy": "2024-02-10T11:13:38.493097Z",
     "iopub.status.idle": "2024-02-10T11:13:43.671349Z",
     "shell.execute_reply": "2024-02-10T11:13:43.670407Z"
    },
    "papermill": {
     "duration": 5.199518,
     "end_time": "2024-02-10T11:13:43.674155",
     "exception": false,
     "start_time": "2024-02-10T11:13:38.474637",
     "status": "completed"
    },
    "tags": []
   },
   "outputs": [
    {
     "data": {
      "image/png": "[encoded data removed]",
      "text/plain": [
       "<Figure size 1200x600 with 1 Axes>"
      ]
     },
     "metadata": {},
     "output_type": "display_data"
    }
   ],
   "source": [
    "# Month_id sütunu için bar grafiği (küçükten büyüğe sıralı)\n",
    "plt.figure(figsize=(12, 6))\n",
    "sns.barplot(x='month_id', y='net_payment_count', data=train, order=sorted(train['month_id'].unique(), key=lambda x: int(x)))\n",
    "plt.title('Aylara Göre Net Payment Count Değişimi')\n",
    "plt.xticks(rotation=45)\n",
    "plt.show()"
   ]
  },
  {
   "cell_type": "code",
   "execution_count": 23,
   "id": "eeb5777b",
   "metadata": {
    "execution": {
     "iopub.execute_input": "2024-02-10T11:13:43.712689Z",
     "iopub.status.busy": "2024-02-10T11:13:43.712240Z",
     "iopub.status.idle": "2024-02-10T11:13:50.873053Z",
     "shell.execute_reply": "2024-02-10T11:13:50.872099Z"
    },
    "papermill": {
     "duration": 7.182118,
     "end_time": "2024-02-10T11:13:50.875124",
     "exception": false,
     "start_time": "2024-02-10T11:13:43.693006",
     "status": "completed"
    },
    "tags": []
   },
   "outputs": [
    {
     "data": {
      "image/png": "[encoded data removed]",
      "text/plain": [
       "<Figure size 1200x600 with 1 Axes>"
      ]
     },
     "metadata": {},
     "output_type": "display_data"
    },
    {
     "data": {
      "image/png": "[encoded data removed]",
      "text/plain": [
       "<Figure size 1200x600 with 1 Axes>"
      ]
     },
     "metadata": {},
     "output_type": "display_data"
    }
   ],
   "source": [
    "# Year sütunu için bar grafiği (küçükten büyüğe sıralı)\n",
    "plt.figure(figsize=(12, 6))\n",
    "sns.barplot(x='year', y='net_payment_count', data=train, order=sorted(train['year'].unique()))\n",
    "plt.title('Yıllara Göre Net Payment Count Değişimi')\n",
    "plt.show()\n",
    "\n",
    "# Month sütunu için bar grafiği (küçükten büyüğe sıralı)\n",
    "plt.figure(figsize=(12, 6))\n",
    "sns.barplot(x='month', y='net_payment_count', data=train, order=sorted(train['month'].unique(), key=lambda x: int(x)))\n",
    "plt.title('Aylara Göre Net Payment Count Değişimi')\n",
    "plt.show()"
   ]
  },
  {
   "cell_type": "code",
   "execution_count": 24,
   "id": "b24f00eb",
   "metadata": {
    "execution": {
     "iopub.execute_input": "2024-02-10T11:13:50.915840Z",
     "iopub.status.busy": "2024-02-10T11:13:50.915108Z",
     "iopub.status.idle": "2024-02-10T11:13:51.235194Z",
     "shell.execute_reply": "2024-02-10T11:13:51.234266Z"
    },
    "papermill": {
     "duration": 0.341259,
     "end_time": "2024-02-10T11:13:51.237186",
     "exception": false,
     "start_time": "2024-02-10T11:13:50.895927",
     "status": "completed"
    },
    "tags": []
   },
   "outputs": [
    {
     "data": {
      "image/png": "[encoded data removed]",
      "text/plain": [
       "<Figure size 1000x600 with 1 Axes>"
      ]
     },
     "metadata": {},
     "output_type": "display_data"
    }
   ],
   "source": [
    "# Log-transform uygulayarak kutu grafiği\n",
    "plt.figure(figsize=(10, 6))\n",
    "sns.boxplot(x=np.log1p(train['net_payment_count']))\n",
    "plt.title('Boxplot of log-transformed net_payment_count')\n",
    "plt.show()"
   ]
  },
  {
   "cell_type": "code",
   "execution_count": 25,
   "id": "5a7d9a7c",
   "metadata": {
    "execution": {
     "iopub.execute_input": "2024-02-10T11:13:51.275031Z",
     "iopub.status.busy": "2024-02-10T11:13:51.274737Z",
     "iopub.status.idle": "2024-02-10T11:13:51.526293Z",
     "shell.execute_reply": "2024-02-10T11:13:51.525235Z"
    },
    "papermill": {
     "duration": 0.272704,
     "end_time": "2024-02-10T11:13:51.528466",
     "exception": false,
     "start_time": "2024-02-10T11:13:51.255762",
     "status": "completed"
    },
    "tags": []
   },
   "outputs": [
    {
     "name": "stdout",
     "output_type": "stream",
     "text": [
      "<class 'pandas.core.frame.DataFrame'>\n",
      "RangeIndex: 291142 entries, 0 to 291141\n",
      "Data columns (total 10 columns):\n",
      " #   Column                Non-Null Count   Dtype  \n",
      "---  ------                --------------   -----  \n",
      " 0   merchant_id           291142 non-null  object \n",
      " 1   month_id              291142 non-null  object \n",
      " 2   merchant_source_name  291142 non-null  object \n",
      " 3   settlement_period     291142 non-null  object \n",
      " 4   working_type          291142 non-null  object \n",
      " 5   mcc_id                291142 non-null  object \n",
      " 6   merchant_segment      291142 non-null  object \n",
      " 7   net_payment_count     291142 non-null  float64\n",
      " 8   year                  291142 non-null  object \n",
      " 9   month                 291142 non-null  object \n",
      "dtypes: float64(1), object(9)\n",
      "memory usage: 22.2+ MB\n"
     ]
    }
   ],
   "source": [
    "train.info()"
   ]
  },
  {
   "cell_type": "code",
   "execution_count": 26,
   "id": "d5cda855",
   "metadata": {
    "execution": {
     "iopub.execute_input": "2024-02-10T11:13:51.567936Z",
     "iopub.status.busy": "2024-02-10T11:13:51.567605Z",
     "iopub.status.idle": "2024-02-10T11:13:51.837705Z",
     "shell.execute_reply": "2024-02-10T11:13:51.836642Z"
    },
    "papermill": {
     "duration": 0.292893,
     "end_time": "2024-02-10T11:13:51.840159",
     "exception": false,
     "start_time": "2024-02-10T11:13:51.547266",
     "status": "completed"
    },
    "tags": []
   },
   "outputs": [
    {
     "name": "stdout",
     "output_type": "stream",
     "text": [
      "merchant_id\n",
      "merchant_43992    45\n",
      "merchant_19380    45\n",
      "merchant_1100     45\n",
      "merchant_17200    45\n",
      "merchant_65293    45\n",
      "                  ..\n",
      "merchant_3063      1\n",
      "merchant_35756     1\n",
      "merchant_50399     1\n",
      "merchant_56272     1\n",
      "merchant_66895     1\n",
      "Name: count, Length: 26060, dtype: int64\n",
      "merchant_source_name\n",
      "Merchant Source - 1    164996\n",
      "Merchant Source - 2    112541\n",
      "Merchant Source - 3     13605\n",
      "Name: count, dtype: int64\n",
      "settlement_period\n",
      "Settlement Period - 1    268906\n",
      "Settlement Period - 3     20553\n",
      "Settlement Period - 2      1683\n",
      "Name: count, dtype: int64\n",
      "working_type\n",
      "Working Type - 6    128755\n",
      "Working Type - 5    116793\n",
      "Working Type - 2     40071\n",
      "Working Type - 3      5204\n",
      "Working Type - 4       255\n",
      "Working Type - 1        64\n",
      "Name: count, dtype: int64\n",
      "mcc_id\n",
      "mcc_42     40543\n",
      "mcc_35     29872\n",
      "mcc_83     13283\n",
      "mcc_110    13126\n",
      "mcc_24     12388\n",
      "           ...  \n",
      "mcc_16         1\n",
      "mcc_57         1\n",
      "mcc_71         1\n",
      "mcc_43         1\n",
      "mcc_90         1\n",
      "Name: count, Length: 172, dtype: int64\n",
      "merchant_segment\n",
      "Segment - 4    280201\n",
      "Segment - 2      6937\n",
      "Segment - 3      3662\n",
      "Segment - 1       342\n",
      "Name: count, dtype: int64\n"
     ]
    }
   ],
   "source": [
    "print(train[\"merchant_id\"].value_counts())\n",
    "print(train[\"merchant_source_name\"].value_counts())\n",
    "print(train[\"settlement_period\"].value_counts())\n",
    "print(train[\"working_type\"].value_counts())\n",
    "print(train[\"mcc_id\"].value_counts())\n",
    "print(train[\"merchant_segment\"].value_counts())"
   ]
  },
  {
   "cell_type": "code",
   "execution_count": 27,
   "id": "7b0f3292",
   "metadata": {
    "execution": {
     "iopub.execute_input": "2024-02-10T11:13:51.882847Z",
     "iopub.status.busy": "2024-02-10T11:13:51.881965Z",
     "iopub.status.idle": "2024-02-10T11:13:52.788180Z",
     "shell.execute_reply": "2024-02-10T11:13:52.787151Z"
    },
    "papermill": {
     "duration": 0.930538,
     "end_time": "2024-02-10T11:13:52.790630",
     "exception": false,
     "start_time": "2024-02-10T11:13:51.860092",
     "status": "completed"
    },
    "tags": []
   },
   "outputs": [],
   "source": [
    "from sklearn.feature_extraction import FeatureHasher\n",
    "\n",
    "def hashing_trick(data, col, n_features=10):\n",
    "    hasher = FeatureHasher(n_features=n_features, input_type='string')\n",
    "    hashed_features = hasher.transform(data[col].astype(str).apply(lambda x: [x])).toarray()\n",
    "    hashed_df = pd.DataFrame(hashed_features, columns=[f'{col}_hash_{i}' for i in range(n_features)])\n",
    "    return pd.concat([data, hashed_df], axis=1).drop(col, axis=1)\n",
    "\n",
    "# Hashing işlemi uygulayalım\n",
    "# train = hashing_trick(train, 'merchant_id', n_features=10)\n",
    "train = hashing_trick(train, 'mcc_id', n_features=10)"
   ]
  },
  {
   "cell_type": "code",
   "execution_count": 28,
   "id": "cca57a6a",
   "metadata": {
    "execution": {
     "iopub.execute_input": "2024-02-10T11:13:52.830083Z",
     "iopub.status.busy": "2024-02-10T11:13:52.829255Z",
     "iopub.status.idle": "2024-02-10T11:13:53.307188Z",
     "shell.execute_reply": "2024-02-10T11:13:53.306245Z"
    },
    "papermill": {
     "duration": 0.500531,
     "end_time": "2024-02-10T11:13:53.309839",
     "exception": false,
     "start_time": "2024-02-10T11:13:52.809308",
     "status": "completed"
    },
    "tags": []
   },
   "outputs": [],
   "source": [
    "# # Target Encoding Columns\n",
    "# target_encoders = {\n",
    "#     'merchant_id': ce.TargetEncoder(),\n",
    "#     'mcc_id': ce.TargetEncoder()\n",
    "# }\n",
    "\n",
    "# One-Hot Encoding Columns\n",
    "one_hot_cols = ['merchant_source_name', 'working_type', 'merchant_segment']\n",
    "\n",
    "# # Target Encoding for mcc_id and merchant_id\n",
    "# for col, encoder in target_encoders.items():\n",
    "#     train[col] = encoder.fit_transform(train[col], train['net_payment_count'])\n",
    "\n",
    "# One-Hot Encoding for one_hot_cols\n",
    "train = pd.get_dummies(train, columns=one_hot_cols, drop_first=True)\n",
    "\n",
    "# Label Encoding for settlement_period\n",
    "label_encoder = ce.OrdinalEncoder(cols=['settlement_period'])\n",
    "train = label_encoder.fit_transform(train)"
   ]
  },
  {
   "cell_type": "code",
   "execution_count": 29,
   "id": "25afd87c",
   "metadata": {
    "execution": {
     "iopub.execute_input": "2024-02-10T11:13:53.349328Z",
     "iopub.status.busy": "2024-02-10T11:13:53.348985Z",
     "iopub.status.idle": "2024-02-10T11:13:53.372218Z",
     "shell.execute_reply": "2024-02-10T11:13:53.371257Z"
    },
    "papermill": {
     "duration": 0.044922,
     "end_time": "2024-02-10T11:13:53.374441",
     "exception": false,
     "start_time": "2024-02-10T11:13:53.329519",
     "status": "completed"
    },
    "tags": []
   },
   "outputs": [
    {
     "data": {
      "text/html": [
       "<div>\n",
       "<style scoped>\n",
       "    .dataframe tbody tr th:only-of-type {\n",
       "        vertical-align: middle;\n",
       "    }\n",
       "\n",
       "    .dataframe tbody tr th {\n",
       "        vertical-align: top;\n",
       "    }\n",
       "\n",
       "    .dataframe thead th {\n",
       "        text-align: right;\n",
       "    }\n",
       "</style>\n",
       "<table border=\"1\" class=\"dataframe\">\n",
       "  <thead>\n",
       "    <tr style=\"text-align: right;\">\n",
       "      <th></th>\n",
       "      <th>merchant_id</th>\n",
       "      <th>month_id</th>\n",
       "      <th>settlement_period</th>\n",
       "      <th>net_payment_count</th>\n",
       "      <th>year</th>\n",
       "      <th>month</th>\n",
       "      <th>mcc_id_hash_0</th>\n",
       "      <th>mcc_id_hash_1</th>\n",
       "      <th>mcc_id_hash_2</th>\n",
       "      <th>mcc_id_hash_3</th>\n",
       "      <th>...</th>\n",
       "      <th>merchant_source_name_Merchant Source - 2</th>\n",
       "      <th>merchant_source_name_Merchant Source - 3</th>\n",
       "      <th>working_type_Working Type - 2</th>\n",
       "      <th>working_type_Working Type - 3</th>\n",
       "      <th>working_type_Working Type - 4</th>\n",
       "      <th>working_type_Working Type - 5</th>\n",
       "      <th>working_type_Working Type - 6</th>\n",
       "      <th>merchant_segment_Segment - 2</th>\n",
       "      <th>merchant_segment_Segment - 3</th>\n",
       "      <th>merchant_segment_Segment - 4</th>\n",
       "    </tr>\n",
       "  </thead>\n",
       "  <tbody>\n",
       "    <tr>\n",
       "      <th>0</th>\n",
       "      <td>merchant_43992</td>\n",
       "      <td>202307</td>\n",
       "      <td>1</td>\n",
       "      <td>8509.69</td>\n",
       "      <td>2023</td>\n",
       "      <td>7</td>\n",
       "      <td>1.00</td>\n",
       "      <td>0.00</td>\n",
       "      <td>0.00</td>\n",
       "      <td>0.00</td>\n",
       "      <td>...</td>\n",
       "      <td>False</td>\n",
       "      <td>True</td>\n",
       "      <td>True</td>\n",
       "      <td>False</td>\n",
       "      <td>False</td>\n",
       "      <td>False</td>\n",
       "      <td>False</td>\n",
       "      <td>True</td>\n",
       "      <td>False</td>\n",
       "      <td>False</td>\n",
       "    </tr>\n",
       "    <tr>\n",
       "      <th>1</th>\n",
       "      <td>merchant_43992</td>\n",
       "      <td>202301</td>\n",
       "      <td>1</td>\n",
       "      <td>8509.69</td>\n",
       "      <td>2023</td>\n",
       "      <td>1</td>\n",
       "      <td>1.00</td>\n",
       "      <td>0.00</td>\n",
       "      <td>0.00</td>\n",
       "      <td>0.00</td>\n",
       "      <td>...</td>\n",
       "      <td>False</td>\n",
       "      <td>True</td>\n",
       "      <td>True</td>\n",
       "      <td>False</td>\n",
       "      <td>False</td>\n",
       "      <td>False</td>\n",
       "      <td>False</td>\n",
       "      <td>True</td>\n",
       "      <td>False</td>\n",
       "      <td>False</td>\n",
       "    </tr>\n",
       "    <tr>\n",
       "      <th>2</th>\n",
       "      <td>merchant_43992</td>\n",
       "      <td>202305</td>\n",
       "      <td>1</td>\n",
       "      <td>8509.69</td>\n",
       "      <td>2023</td>\n",
       "      <td>5</td>\n",
       "      <td>1.00</td>\n",
       "      <td>0.00</td>\n",
       "      <td>0.00</td>\n",
       "      <td>0.00</td>\n",
       "      <td>...</td>\n",
       "      <td>False</td>\n",
       "      <td>True</td>\n",
       "      <td>True</td>\n",
       "      <td>False</td>\n",
       "      <td>False</td>\n",
       "      <td>False</td>\n",
       "      <td>False</td>\n",
       "      <td>True</td>\n",
       "      <td>False</td>\n",
       "      <td>False</td>\n",
       "    </tr>\n",
       "    <tr>\n",
       "      <th>3</th>\n",
       "      <td>merchant_43992</td>\n",
       "      <td>202308</td>\n",
       "      <td>1</td>\n",
       "      <td>8509.69</td>\n",
       "      <td>2023</td>\n",
       "      <td>8</td>\n",
       "      <td>1.00</td>\n",
       "      <td>0.00</td>\n",
       "      <td>0.00</td>\n",
       "      <td>0.00</td>\n",
       "      <td>...</td>\n",
       "      <td>False</td>\n",
       "      <td>True</td>\n",
       "      <td>True</td>\n",
       "      <td>False</td>\n",
       "      <td>False</td>\n",
       "      <td>False</td>\n",
       "      <td>False</td>\n",
       "      <td>True</td>\n",
       "      <td>False</td>\n",
       "      <td>False</td>\n",
       "    </tr>\n",
       "    <tr>\n",
       "      <th>4</th>\n",
       "      <td>merchant_43992</td>\n",
       "      <td>202302</td>\n",
       "      <td>1</td>\n",
       "      <td>8509.69</td>\n",
       "      <td>2023</td>\n",
       "      <td>2</td>\n",
       "      <td>1.00</td>\n",
       "      <td>0.00</td>\n",
       "      <td>0.00</td>\n",
       "      <td>0.00</td>\n",
       "      <td>...</td>\n",
       "      <td>False</td>\n",
       "      <td>True</td>\n",
       "      <td>True</td>\n",
       "      <td>False</td>\n",
       "      <td>False</td>\n",
       "      <td>False</td>\n",
       "      <td>False</td>\n",
       "      <td>True</td>\n",
       "      <td>False</td>\n",
       "      <td>False</td>\n",
       "    </tr>\n",
       "  </tbody>\n",
       "</table>\n",
       "<p>5 rows × 26 columns</p>\n",
       "</div>"
      ],
      "text/plain": [
       "      merchant_id month_id  settlement_period  net_payment_count  year month  \\\n",
       "0  merchant_43992   202307                  1            8509.69  2023     7   \n",
       "1  merchant_43992   202301                  1            8509.69  2023     1   \n",
       "2  merchant_43992   202305                  1            8509.69  2023     5   \n",
       "3  merchant_43992   202308                  1            8509.69  2023     8   \n",
       "4  merchant_43992   202302                  1            8509.69  2023     2   \n",
       "\n",
       "   mcc_id_hash_0  mcc_id_hash_1  mcc_id_hash_2  mcc_id_hash_3  ...  \\\n",
       "0           1.00           0.00           0.00           0.00  ...   \n",
       "1           1.00           0.00           0.00           0.00  ...   \n",
       "2           1.00           0.00           0.00           0.00  ...   \n",
       "3           1.00           0.00           0.00           0.00  ...   \n",
       "4           1.00           0.00           0.00           0.00  ...   \n",
       "\n",
       "   merchant_source_name_Merchant Source - 2  \\\n",
       "0                                     False   \n",
       "1                                     False   \n",
       "2                                     False   \n",
       "3                                     False   \n",
       "4                                     False   \n",
       "\n",
       "   merchant_source_name_Merchant Source - 3  working_type_Working Type - 2  \\\n",
       "0                                      True                           True   \n",
       "1                                      True                           True   \n",
       "2                                      True                           True   \n",
       "3                                      True                           True   \n",
       "4                                      True                           True   \n",
       "\n",
       "   working_type_Working Type - 3  working_type_Working Type - 4  \\\n",
       "0                          False                          False   \n",
       "1                          False                          False   \n",
       "2                          False                          False   \n",
       "3                          False                          False   \n",
       "4                          False                          False   \n",
       "\n",
       "   working_type_Working Type - 5  working_type_Working Type - 6  \\\n",
       "0                          False                          False   \n",
       "1                          False                          False   \n",
       "2                          False                          False   \n",
       "3                          False                          False   \n",
       "4                          False                          False   \n",
       "\n",
       "   merchant_segment_Segment - 2  merchant_segment_Segment - 3  \\\n",
       "0                          True                         False   \n",
       "1                          True                         False   \n",
       "2                          True                         False   \n",
       "3                          True                         False   \n",
       "4                          True                         False   \n",
       "\n",
       "   merchant_segment_Segment - 4  \n",
       "0                         False  \n",
       "1                         False  \n",
       "2                         False  \n",
       "3                         False  \n",
       "4                         False  \n",
       "\n",
       "[5 rows x 26 columns]"
      ]
     },
     "execution_count": 29,
     "metadata": {},
     "output_type": "execute_result"
    }
   ],
   "source": [
    "train.head()"
   ]
  },
  {
   "cell_type": "code",
   "execution_count": 30,
   "id": "e6cf5b50",
   "metadata": {
    "execution": {
     "iopub.execute_input": "2024-02-10T11:13:53.417172Z",
     "iopub.status.busy": "2024-02-10T11:13:53.416852Z",
     "iopub.status.idle": "2024-02-10T11:13:53.548530Z",
     "shell.execute_reply": "2024-02-10T11:13:53.547378Z"
    },
    "papermill": {
     "duration": 0.154921,
     "end_time": "2024-02-10T11:13:53.550997",
     "exception": false,
     "start_time": "2024-02-10T11:13:53.396076",
     "status": "completed"
    },
    "tags": []
   },
   "outputs": [
    {
     "name": "stdout",
     "output_type": "stream",
     "text": [
      "<class 'pandas.core.frame.DataFrame'>\n",
      "RangeIndex: 291142 entries, 0 to 291141\n",
      "Data columns (total 26 columns):\n",
      " #   Column                                    Non-Null Count   Dtype  \n",
      "---  ------                                    --------------   -----  \n",
      " 0   merchant_id                               291142 non-null  object \n",
      " 1   month_id                                  291142 non-null  object \n",
      " 2   settlement_period                         291142 non-null  int64  \n",
      " 3   net_payment_count                         291142 non-null  float64\n",
      " 4   year                                      291142 non-null  object \n",
      " 5   month                                     291142 non-null  object \n",
      " 6   mcc_id_hash_0                             291142 non-null  float64\n",
      " 7   mcc_id_hash_1                             291142 non-null  float64\n",
      " 8   mcc_id_hash_2                             291142 non-null  float64\n",
      " 9   mcc_id_hash_3                             291142 non-null  float64\n",
      " 10  mcc_id_hash_4                             291142 non-null  float64\n",
      " 11  mcc_id_hash_5                             291142 non-null  float64\n",
      " 12  mcc_id_hash_6                             291142 non-null  float64\n",
      " 13  mcc_id_hash_7                             291142 non-null  float64\n",
      " 14  mcc_id_hash_8                             291142 non-null  float64\n",
      " 15  mcc_id_hash_9                             291142 non-null  float64\n",
      " 16  merchant_source_name_Merchant Source - 2  291142 non-null  bool   \n",
      " 17  merchant_source_name_Merchant Source - 3  291142 non-null  bool   \n",
      " 18  working_type_Working Type - 2             291142 non-null  bool   \n",
      " 19  working_type_Working Type - 3             291142 non-null  bool   \n",
      " 20  working_type_Working Type - 4             291142 non-null  bool   \n",
      " 21  working_type_Working Type - 5             291142 non-null  bool   \n",
      " 22  working_type_Working Type - 6             291142 non-null  bool   \n",
      " 23  merchant_segment_Segment - 2              291142 non-null  bool   \n",
      " 24  merchant_segment_Segment - 3              291142 non-null  bool   \n",
      " 25  merchant_segment_Segment - 4              291142 non-null  bool   \n",
      "dtypes: bool(10), float64(11), int64(1), object(4)\n",
      "memory usage: 38.3+ MB\n"
     ]
    }
   ],
   "source": [
    "train.info()"
   ]
  },
  {
   "cell_type": "code",
   "execution_count": 31,
   "id": "9195e40a",
   "metadata": {
    "execution": {
     "iopub.execute_input": "2024-02-10T11:13:53.592153Z",
     "iopub.status.busy": "2024-02-10T11:13:53.591823Z",
     "iopub.status.idle": "2024-02-10T11:13:53.758929Z",
     "shell.execute_reply": "2024-02-10T11:13:53.757899Z"
    },
    "papermill": {
     "duration": 0.190097,
     "end_time": "2024-02-10T11:13:53.761311",
     "exception": false,
     "start_time": "2024-02-10T11:13:53.571214",
     "status": "completed"
    },
    "tags": []
   },
   "outputs": [],
   "source": [
    "train['settlement_period'] = train['settlement_period'].astype(object)\n",
    "# train['merchant_id_hash_0'] = train['merchant_id_hash_0'].astype(object)\n",
    "# train['merchant_id_hash_1'] = train['merchant_id_hash_1'].astype(object)\n",
    "# train['merchant_id_hash_2'] = train['merchant_id_hash_2'].astype(object)\n",
    "# train['merchant_id_hash_3'] = train['merchant_id_hash_3'].astype(object)\n",
    "# train['merchant_id_hash_4'] = train['merchant_id_hash_4'].astype(object)\n",
    "# train['merchant_id_hash_5'] = train['merchant_id_hash_5'].astype(object)\n",
    "# train['merchant_id_hash_6'] = train['merchant_id_hash_6'].astype(object)\n",
    "# train['merchant_id_hash_7'] = train['merchant_id_hash_7'].astype(object)\n",
    "# train['merchant_id_hash_8'] = train['merchant_id_hash_8'].astype(object)\n",
    "# train['merchant_id_hash_9'] = train['merchant_id_hash_9'].astype(object)\n",
    "train['mcc_id_hash_0'] = train['mcc_id_hash_0'].astype(object)\n",
    "train['mcc_id_hash_1'] = train['mcc_id_hash_1'].astype(object)\n",
    "train['mcc_id_hash_2'] = train['mcc_id_hash_2'].astype(object)\n",
    "train['mcc_id_hash_3'] = train['mcc_id_hash_3'].astype(object)\n",
    "train['mcc_id_hash_4'] = train['mcc_id_hash_4'].astype(object)\n",
    "train['mcc_id_hash_5'] = train['mcc_id_hash_5'].astype(object)\n",
    "train['mcc_id_hash_6'] = train['mcc_id_hash_6'].astype(object)\n",
    "train['mcc_id_hash_7'] = train['mcc_id_hash_7'].astype(object)\n",
    "train['mcc_id_hash_8'] = train['mcc_id_hash_8'].astype(object)\n",
    "train['mcc_id_hash_9'] = train['mcc_id_hash_9'].astype(object)"
   ]
  },
  {
   "cell_type": "code",
   "execution_count": 32,
   "id": "7b42f746",
   "metadata": {
    "execution": {
     "iopub.execute_input": "2024-02-10T11:13:53.801252Z",
     "iopub.status.busy": "2024-02-10T11:13:53.800892Z",
     "iopub.status.idle": "2024-02-10T11:13:54.060182Z",
     "shell.execute_reply": "2024-02-10T11:13:54.058478Z"
    },
    "papermill": {
     "duration": 0.281739,
     "end_time": "2024-02-10T11:13:54.062721",
     "exception": false,
     "start_time": "2024-02-10T11:13:53.780982",
     "status": "completed"
    },
    "tags": []
   },
   "outputs": [
    {
     "name": "stdout",
     "output_type": "stream",
     "text": [
      "<class 'pandas.core.frame.DataFrame'>\n",
      "RangeIndex: 291142 entries, 0 to 291141\n",
      "Data columns (total 26 columns):\n",
      " #   Column                                    Non-Null Count   Dtype  \n",
      "---  ------                                    --------------   -----  \n",
      " 0   merchant_id                               291142 non-null  object \n",
      " 1   month_id                                  291142 non-null  object \n",
      " 2   settlement_period                         291142 non-null  object \n",
      " 3   net_payment_count                         291142 non-null  float64\n",
      " 4   year                                      291142 non-null  object \n",
      " 5   month                                     291142 non-null  object \n",
      " 6   mcc_id_hash_0                             291142 non-null  object \n",
      " 7   mcc_id_hash_1                             291142 non-null  object \n",
      " 8   mcc_id_hash_2                             291142 non-null  object \n",
      " 9   mcc_id_hash_3                             291142 non-null  object \n",
      " 10  mcc_id_hash_4                             291142 non-null  object \n",
      " 11  mcc_id_hash_5                             291142 non-null  object \n",
      " 12  mcc_id_hash_6                             291142 non-null  object \n",
      " 13  mcc_id_hash_7                             291142 non-null  object \n",
      " 14  mcc_id_hash_8                             291142 non-null  object \n",
      " 15  mcc_id_hash_9                             291142 non-null  object \n",
      " 16  merchant_source_name_Merchant Source - 2  291142 non-null  bool   \n",
      " 17  merchant_source_name_Merchant Source - 3  291142 non-null  bool   \n",
      " 18  working_type_Working Type - 2             291142 non-null  bool   \n",
      " 19  working_type_Working Type - 3             291142 non-null  bool   \n",
      " 20  working_type_Working Type - 4             291142 non-null  bool   \n",
      " 21  working_type_Working Type - 5             291142 non-null  bool   \n",
      " 22  working_type_Working Type - 6             291142 non-null  bool   \n",
      " 23  merchant_segment_Segment - 2              291142 non-null  bool   \n",
      " 24  merchant_segment_Segment - 3              291142 non-null  bool   \n",
      " 25  merchant_segment_Segment - 4              291142 non-null  bool   \n",
      "dtypes: bool(10), float64(1), object(15)\n",
      "memory usage: 38.3+ MB\n"
     ]
    }
   ],
   "source": [
    "train.info()"
   ]
  },
  {
   "cell_type": "code",
   "execution_count": 33,
   "id": "3a53773b",
   "metadata": {
    "execution": {
     "iopub.execute_input": "2024-02-10T11:13:54.108713Z",
     "iopub.status.busy": "2024-02-10T11:13:54.107811Z",
     "iopub.status.idle": "2024-02-10T11:13:54.270627Z",
     "shell.execute_reply": "2024-02-10T11:13:54.269627Z"
    },
    "papermill": {
     "duration": 0.187967,
     "end_time": "2024-02-10T11:13:54.273040",
     "exception": false,
     "start_time": "2024-02-10T11:13:54.085073",
     "status": "completed"
    },
    "tags": []
   },
   "outputs": [],
   "source": [
    "def hashing_trick(data, col, n_features=10):\n",
    "    hasher = FeatureHasher(n_features=n_features, input_type='string')\n",
    "    hashed_features = hasher.transform(data[col].astype(str).apply(lambda x: [x])).toarray()\n",
    "    hashed_df = pd.DataFrame(hashed_features, columns=[f'{col}_hash_{i}' for i in range(n_features)])\n",
    "    return pd.concat([data, hashed_df], axis=1).drop(col, axis=1)\n",
    "\n",
    "# Hashing işlemi uygulayalım\n",
    "# test = hashing_trick(test, 'merchant_id', n_features=10)\n",
    "test = hashing_trick(test, 'mcc_id', n_features=10)"
   ]
  },
  {
   "cell_type": "code",
   "execution_count": 34,
   "id": "bbd5e80f",
   "metadata": {
    "execution": {
     "iopub.execute_input": "2024-02-10T11:13:54.316173Z",
     "iopub.status.busy": "2024-02-10T11:13:54.315358Z",
     "iopub.status.idle": "2024-02-10T11:13:54.443096Z",
     "shell.execute_reply": "2024-02-10T11:13:54.441947Z"
    },
    "papermill": {
     "duration": 0.152041,
     "end_time": "2024-02-10T11:13:54.445621",
     "exception": false,
     "start_time": "2024-02-10T11:13:54.293580",
     "status": "completed"
    },
    "tags": []
   },
   "outputs": [],
   "source": [
    "# One-Hot Encoding Columns\n",
    "one_hot_cols = ['merchant_source_name', 'working_type', 'merchant_segment']\n",
    "\n",
    "# One-Hot Encoding for one_hot_cols\n",
    "test = pd.get_dummies(test, columns=one_hot_cols, drop_first=True)\n",
    "\n",
    "# Label Encoding for settlement_period\n",
    "label_encoder = ce.OrdinalEncoder(cols=['settlement_period'])\n",
    "test = label_encoder.fit_transform(test)"
   ]
  },
  {
   "cell_type": "code",
   "execution_count": 35,
   "id": "67f4c61b",
   "metadata": {
    "execution": {
     "iopub.execute_input": "2024-02-10T11:13:54.488518Z",
     "iopub.status.busy": "2024-02-10T11:13:54.487703Z",
     "iopub.status.idle": "2024-02-10T11:13:54.532758Z",
     "shell.execute_reply": "2024-02-10T11:13:54.531615Z"
    },
    "papermill": {
     "duration": 0.068353,
     "end_time": "2024-02-10T11:13:54.534918",
     "exception": false,
     "start_time": "2024-02-10T11:13:54.466565",
     "status": "completed"
    },
    "tags": []
   },
   "outputs": [
    {
     "name": "stdout",
     "output_type": "stream",
     "text": [
      "<class 'pandas.core.frame.DataFrame'>\n",
      "RangeIndex: 78180 entries, 0 to 78179\n",
      "Data columns (total 26 columns):\n",
      " #   Column                                    Non-Null Count  Dtype  \n",
      "---  ------                                    --------------  -----  \n",
      " 0   merchant_id                               78180 non-null  object \n",
      " 1   month_id                                  78180 non-null  object \n",
      " 2   net_payment_count                         0 non-null      float64\n",
      " 3   settlement_period                         78180 non-null  int64  \n",
      " 4   year                                      78180 non-null  object \n",
      " 5   month                                     78180 non-null  object \n",
      " 6   mcc_id_hash_0                             78180 non-null  float64\n",
      " 7   mcc_id_hash_1                             78180 non-null  float64\n",
      " 8   mcc_id_hash_2                             78180 non-null  float64\n",
      " 9   mcc_id_hash_3                             78180 non-null  float64\n",
      " 10  mcc_id_hash_4                             78180 non-null  float64\n",
      " 11  mcc_id_hash_5                             78180 non-null  float64\n",
      " 12  mcc_id_hash_6                             78180 non-null  float64\n",
      " 13  mcc_id_hash_7                             78180 non-null  float64\n",
      " 14  mcc_id_hash_8                             78180 non-null  float64\n",
      " 15  mcc_id_hash_9                             78180 non-null  float64\n",
      " 16  merchant_source_name_Merchant Source - 2  78180 non-null  bool   \n",
      " 17  merchant_source_name_Merchant Source - 3  78180 non-null  bool   \n",
      " 18  working_type_Working Type - 2             78180 non-null  bool   \n",
      " 19  working_type_Working Type - 3             78180 non-null  bool   \n",
      " 20  working_type_Working Type - 4             78180 non-null  bool   \n",
      " 21  working_type_Working Type - 5             78180 non-null  bool   \n",
      " 22  working_type_Working Type - 6             78180 non-null  bool   \n",
      " 23  merchant_segment_Segment - 2              78180 non-null  bool   \n",
      " 24  merchant_segment_Segment - 3              78180 non-null  bool   \n",
      " 25  merchant_segment_Segment - 4              78180 non-null  bool   \n",
      "dtypes: bool(10), float64(11), int64(1), object(4)\n",
      "memory usage: 10.3+ MB\n"
     ]
    }
   ],
   "source": [
    "test.info()"
   ]
  },
  {
   "cell_type": "code",
   "execution_count": 36,
   "id": "fb1dc0c4",
   "metadata": {
    "execution": {
     "iopub.execute_input": "2024-02-10T11:13:54.577871Z",
     "iopub.status.busy": "2024-02-10T11:13:54.577095Z",
     "iopub.status.idle": "2024-02-10T11:13:54.629862Z",
     "shell.execute_reply": "2024-02-10T11:13:54.628945Z"
    },
    "papermill": {
     "duration": 0.076753,
     "end_time": "2024-02-10T11:13:54.632205",
     "exception": false,
     "start_time": "2024-02-10T11:13:54.555452",
     "status": "completed"
    },
    "tags": []
   },
   "outputs": [],
   "source": [
    "test['settlement_period'] = test['settlement_period'].astype(object)\n",
    "# test['merchant_id_hash_0'] = test['merchant_id_hash_0'].astype(object)\n",
    "# test['merchant_id_hash_1'] = test['merchant_id_hash_1'].astype(object)\n",
    "# test['merchant_id_hash_2'] = test['merchant_id_hash_2'].astype(object)\n",
    "# test['merchant_id_hash_3'] = test['merchant_id_hash_3'].astype(object)\n",
    "# test['merchant_id_hash_4'] = test['merchant_id_hash_4'].astype(object)\n",
    "# test['merchant_id_hash_5'] = test['merchant_id_hash_5'].astype(object)\n",
    "# test['merchant_id_hash_6'] = test['merchant_id_hash_6'].astype(object)\n",
    "# test['merchant_id_hash_7'] = test['merchant_id_hash_7'].astype(object)\n",
    "# test['merchant_id_hash_8'] = test['merchant_id_hash_8'].astype(object)\n",
    "# test['merchant_id_hash_9'] = test['merchant_id_hash_9'].astype(object)\n",
    "test['mcc_id_hash_0'] = test['mcc_id_hash_0'].astype(object)\n",
    "test['mcc_id_hash_1'] = test['mcc_id_hash_1'].astype(object)\n",
    "test['mcc_id_hash_2'] = test['mcc_id_hash_2'].astype(object)\n",
    "test['mcc_id_hash_3'] = test['mcc_id_hash_3'].astype(object)\n",
    "test['mcc_id_hash_4'] = test['mcc_id_hash_4'].astype(object)\n",
    "test['mcc_id_hash_5'] = test['mcc_id_hash_5'].astype(object)\n",
    "test['mcc_id_hash_6'] = test['mcc_id_hash_6'].astype(object)\n",
    "test['mcc_id_hash_7'] = test['mcc_id_hash_7'].astype(object)\n",
    "test['mcc_id_hash_8'] = test['mcc_id_hash_8'].astype(object)\n",
    "test['mcc_id_hash_9'] = test['mcc_id_hash_9'].astype(object)"
   ]
  },
  {
   "cell_type": "code",
   "execution_count": 37,
   "id": "34e629db",
   "metadata": {
    "execution": {
     "iopub.execute_input": "2024-02-10T11:13:54.673671Z",
     "iopub.status.busy": "2024-02-10T11:13:54.673132Z",
     "iopub.status.idle": "2024-02-10T11:13:55.021340Z",
     "shell.execute_reply": "2024-02-10T11:13:55.020574Z"
    },
    "papermill": {
     "duration": 0.371158,
     "end_time": "2024-02-10T11:13:55.023671",
     "exception": false,
     "start_time": "2024-02-10T11:13:54.652513",
     "status": "completed"
    },
    "tags": []
   },
   "outputs": [],
   "source": [
    "def remove_first_n_chars(df, col_name, n=9):\n",
    "    \"\"\"\n",
    "    Verilen bir DataFrame'deki belirli bir kolondaki tüm satırlardan\n",
    "    belirtilen sayıda karakteri silen fonksiyon.\n",
    "\n",
    "    Parameters:\n",
    "    - df: DataFrame\n",
    "        Veri seti\n",
    "    - col_name: str\n",
    "        İşlem yapılacak kolonun adı\n",
    "    - n: int\n",
    "        Silinecek karakter sayısı (varsayılan: 9)\n",
    "\n",
    "    Returns:\n",
    "    - DataFrame\n",
    "        İşlenmiş veri seti\n",
    "    \"\"\"\n",
    "    df_copy = df.copy()  # orijinal veriyi korumak için kopya oluştur\n",
    "\n",
    "    # Belirtilen kolondaki tüm satırlardan ilk n karakteri sil\n",
    "    df_copy[col_name] = df_copy[col_name].str[n:]\n",
    "\n",
    "    return df_copy\n",
    "\n",
    "# Fonksiyonu kullanarak merchant_id kolonundan ilk 9 karakteri silme\n",
    "train = remove_first_n_chars(train, 'merchant_id', n=9)"
   ]
  },
  {
   "cell_type": "code",
   "execution_count": 38,
   "id": "b781bdb8",
   "metadata": {
    "execution": {
     "iopub.execute_input": "2024-02-10T11:13:55.064058Z",
     "iopub.status.busy": "2024-02-10T11:13:55.063554Z",
     "iopub.status.idle": "2024-02-10T11:13:55.392329Z",
     "shell.execute_reply": "2024-02-10T11:13:55.391390Z"
    },
    "papermill": {
     "duration": 0.351447,
     "end_time": "2024-02-10T11:13:55.394840",
     "exception": false,
     "start_time": "2024-02-10T11:13:55.043393",
     "status": "completed"
    },
    "tags": []
   },
   "outputs": [],
   "source": [
    "from sklearn.model_selection import train_test_split\n",
    "\n",
    "# Bağımsız değişkenler (X) ve bağımlı değişken (y) ayırma\n",
    "X = train.drop('net_payment_count', axis=1)\n",
    "y = train['net_payment_count']\n",
    "\n",
    "# Veri setini eğitim ve test setlerine böleme\n",
    "X_train, X_test, y_train, y_test = train_test_split(X, y, test_size=0.2, random_state=42)"
   ]
  },
  {
   "cell_type": "code",
   "execution_count": 39,
   "id": "36d00edd",
   "metadata": {
    "execution": {
     "iopub.execute_input": "2024-02-10T11:13:55.436048Z",
     "iopub.status.busy": "2024-02-10T11:13:55.435652Z",
     "iopub.status.idle": "2024-02-10T11:15:30.718440Z",
     "shell.execute_reply": "2024-02-10T11:15:30.717271Z"
    },
    "papermill": {
     "duration": 95.32585,
     "end_time": "2024-02-10T11:15:30.740985",
     "exception": false,
     "start_time": "2024-02-10T11:13:55.415135",
     "status": "completed"
    },
    "tags": []
   },
   "outputs": [
    {
     "name": "stdout",
     "output_type": "stream",
     "text": [
      "Mean Absolute Error: 1.0534854388281563\n"
     ]
    }
   ],
   "source": [
    "# Model seçimi ve eğitimi\n",
    "rf_model = RandomForestRegressor(random_state=42)\n",
    "rf_model.fit(X_train, y_train)\n",
    "\n",
    "# Tahmin yapma\n",
    "y_pred = rf_model.predict(X_test)\n",
    "\n",
    "# Model performansını değerlendirme\n",
    "mae = mean_absolute_error(y_test, y_pred)\n",
    "print('Mean Absolute Error:', mae)"
   ]
  },
  {
   "cell_type": "code",
   "execution_count": 40,
   "id": "e2e68fd8",
   "metadata": {
    "execution": {
     "iopub.execute_input": "2024-02-10T11:15:30.783114Z",
     "iopub.status.busy": "2024-02-10T11:15:30.782778Z",
     "iopub.status.idle": "2024-02-10T11:15:30.787660Z",
     "shell.execute_reply": "2024-02-10T11:15:30.786736Z"
    },
    "papermill": {
     "duration": 0.028124,
     "end_time": "2024-02-10T11:15:30.789634",
     "exception": false,
     "start_time": "2024-02-10T11:15:30.761510",
     "status": "completed"
    },
    "tags": []
   },
   "outputs": [],
   "source": [
    "# # Grid Search için parametre aralıkları\n",
    "# param_grid = {\n",
    "#     'n_estimators': [50, 100, 200],\n",
    "#     'max_depth': [None, 10, 20],\n",
    "#     'min_samples_split': [2, 5, 10]\n",
    "# }\n",
    "\n",
    "# # Random Forest Regressor modeli\n",
    "# rf_model = RandomForestRegressor(random_state=42)\n",
    "\n",
    "# # Grid Search uygulama\n",
    "# grid_search = GridSearchCV(estimator=rf_model, param_grid=param_grid, scoring='neg_mean_absolute_error', cv=10, n_jobs=-1)\n",
    "# grid_search.fit(X_train, y_train)\n",
    "\n",
    "# # En iyi parametre setini bulma\n",
    "# best_params = grid_search.best_params_\n",
    "\n",
    "# # En iyi modeli kullanma\n",
    "# best_model = grid_search.best_estimator_\n",
    "\n",
    "# # Test seti üzerinde performansı değerlendirme\n",
    "# y_pred = best_model.predict(X_test)\n",
    "# mae = mean_absolute_error(y_test, y_pred)\n",
    "# print('Optimize Edilmiş Modelin MAE:', mae)\n",
    "# print('En iyi parametreler:', best_params)"
   ]
  },
  {
   "cell_type": "code",
   "execution_count": 41,
   "id": "de3ad8c0",
   "metadata": {
    "execution": {
     "iopub.execute_input": "2024-02-10T11:15:30.829895Z",
     "iopub.status.busy": "2024-02-10T11:15:30.829604Z",
     "iopub.status.idle": "2024-02-10T11:15:30.919945Z",
     "shell.execute_reply": "2024-02-10T11:15:30.919105Z"
    },
    "papermill": {
     "duration": 0.113566,
     "end_time": "2024-02-10T11:15:30.922441",
     "exception": false,
     "start_time": "2024-02-10T11:15:30.808875",
     "status": "completed"
    },
    "tags": []
   },
   "outputs": [],
   "source": [
    "def remove_first_n_chars(df, col_name, n=9):\n",
    "    \"\"\"\n",
    "    Verilen bir DataFrame'deki belirli bir kolondaki tüm satırlardan\n",
    "    belirtilen sayıda karakteri silen fonksiyon.\n",
    "\n",
    "    Parameters:\n",
    "    - df: DataFrame\n",
    "        Veri seti\n",
    "    - col_name: str\n",
    "        İşlem yapılacak kolonun adı\n",
    "    - n: int\n",
    "        Silinecek karakter sayısı (varsayılan: 9)\n",
    "\n",
    "    Returns:\n",
    "    - DataFrame\n",
    "        İşlenmiş veri seti\n",
    "    \"\"\"\n",
    "    df_copy = df.copy()  # orijinal veriyi korumak için kopya oluştur\n",
    "\n",
    "    # Belirtilen kolondaki tüm satırlardan ilk n karakteri sil\n",
    "    df_copy[col_name] = df_copy[col_name].str[n:]\n",
    "\n",
    "    return df_copy\n",
    "\n",
    "# Fonksiyonu kullanarak merchant_id kolonundan ilk 9 karakteri silme\n",
    "test = remove_first_n_chars(test, 'merchant_id', n=9)"
   ]
  },
  {
   "cell_type": "code",
   "execution_count": 42,
   "id": "2cde59b4",
   "metadata": {
    "execution": {
     "iopub.execute_input": "2024-02-10T11:15:30.964637Z",
     "iopub.status.busy": "2024-02-10T11:15:30.964285Z",
     "iopub.status.idle": "2024-02-10T11:15:31.853259Z",
     "shell.execute_reply": "2024-02-10T11:15:31.852309Z"
    },
    "papermill": {
     "duration": 0.913104,
     "end_time": "2024-02-10T11:15:31.855838",
     "exception": false,
     "start_time": "2024-02-10T11:15:30.942734",
     "status": "completed"
    },
    "tags": []
   },
   "outputs": [],
   "source": [
    "# Random Forest modelini kullanarak tahminleme yapma\n",
    "test['net_payment_count'] = rf_model.predict(test.drop(columns=['net_payment_count']))\n",
    "# test['net_payment_count'] = best_model.predict(test.drop(columns=['net_payment_count']))"
   ]
  },
  {
   "cell_type": "code",
   "execution_count": 43,
   "id": "076d00b6",
   "metadata": {
    "execution": {
     "iopub.execute_input": "2024-02-10T11:15:31.897290Z",
     "iopub.status.busy": "2024-02-10T11:15:31.896460Z",
     "iopub.status.idle": "2024-02-10T11:15:31.989795Z",
     "shell.execute_reply": "2024-02-10T11:15:31.988615Z"
    },
    "papermill": {
     "duration": 0.116549,
     "end_time": "2024-02-10T11:15:31.992562",
     "exception": false,
     "start_time": "2024-02-10T11:15:31.876013",
     "status": "completed"
    },
    "tags": []
   },
   "outputs": [
    {
     "data": {
      "text/html": [
       "<div>\n",
       "<style scoped>\n",
       "    .dataframe tbody tr th:only-of-type {\n",
       "        vertical-align: middle;\n",
       "    }\n",
       "\n",
       "    .dataframe tbody tr th {\n",
       "        vertical-align: top;\n",
       "    }\n",
       "\n",
       "    .dataframe thead th {\n",
       "        text-align: right;\n",
       "    }\n",
       "</style>\n",
       "<table border=\"1\" class=\"dataframe\">\n",
       "  <thead>\n",
       "    <tr style=\"text-align: right;\">\n",
       "      <th></th>\n",
       "      <th>merchant_id</th>\n",
       "      <th>month_id</th>\n",
       "      <th>net_payment_count</th>\n",
       "      <th>settlement_period</th>\n",
       "      <th>year</th>\n",
       "      <th>month</th>\n",
       "      <th>mcc_id_hash_0</th>\n",
       "      <th>mcc_id_hash_1</th>\n",
       "      <th>mcc_id_hash_2</th>\n",
       "      <th>mcc_id_hash_3</th>\n",
       "      <th>...</th>\n",
       "      <th>merchant_source_name_Merchant Source - 2</th>\n",
       "      <th>merchant_source_name_Merchant Source - 3</th>\n",
       "      <th>working_type_Working Type - 2</th>\n",
       "      <th>working_type_Working Type - 3</th>\n",
       "      <th>working_type_Working Type - 4</th>\n",
       "      <th>working_type_Working Type - 5</th>\n",
       "      <th>working_type_Working Type - 6</th>\n",
       "      <th>merchant_segment_Segment - 2</th>\n",
       "      <th>merchant_segment_Segment - 3</th>\n",
       "      <th>merchant_segment_Segment - 4</th>\n",
       "    </tr>\n",
       "  </thead>\n",
       "  <tbody>\n",
       "    <tr>\n",
       "      <th>0</th>\n",
       "      <td>36004</td>\n",
       "      <td>202311</td>\n",
       "      <td>6.93</td>\n",
       "      <td>1</td>\n",
       "      <td>2023</td>\n",
       "      <td>11</td>\n",
       "      <td>0.00</td>\n",
       "      <td>0.00</td>\n",
       "      <td>0.00</td>\n",
       "      <td>0.00</td>\n",
       "      <td>...</td>\n",
       "      <td>False</td>\n",
       "      <td>False</td>\n",
       "      <td>True</td>\n",
       "      <td>False</td>\n",
       "      <td>False</td>\n",
       "      <td>False</td>\n",
       "      <td>False</td>\n",
       "      <td>False</td>\n",
       "      <td>False</td>\n",
       "      <td>True</td>\n",
       "    </tr>\n",
       "    <tr>\n",
       "      <th>1</th>\n",
       "      <td>36004</td>\n",
       "      <td>202312</td>\n",
       "      <td>6.90</td>\n",
       "      <td>1</td>\n",
       "      <td>2023</td>\n",
       "      <td>12</td>\n",
       "      <td>0.00</td>\n",
       "      <td>0.00</td>\n",
       "      <td>0.00</td>\n",
       "      <td>0.00</td>\n",
       "      <td>...</td>\n",
       "      <td>False</td>\n",
       "      <td>False</td>\n",
       "      <td>True</td>\n",
       "      <td>False</td>\n",
       "      <td>False</td>\n",
       "      <td>False</td>\n",
       "      <td>False</td>\n",
       "      <td>False</td>\n",
       "      <td>False</td>\n",
       "      <td>True</td>\n",
       "    </tr>\n",
       "    <tr>\n",
       "      <th>2</th>\n",
       "      <td>36004</td>\n",
       "      <td>202310</td>\n",
       "      <td>6.93</td>\n",
       "      <td>1</td>\n",
       "      <td>2023</td>\n",
       "      <td>10</td>\n",
       "      <td>0.00</td>\n",
       "      <td>0.00</td>\n",
       "      <td>0.00</td>\n",
       "      <td>0.00</td>\n",
       "      <td>...</td>\n",
       "      <td>False</td>\n",
       "      <td>False</td>\n",
       "      <td>True</td>\n",
       "      <td>False</td>\n",
       "      <td>False</td>\n",
       "      <td>False</td>\n",
       "      <td>False</td>\n",
       "      <td>False</td>\n",
       "      <td>False</td>\n",
       "      <td>True</td>\n",
       "    </tr>\n",
       "    <tr>\n",
       "      <th>3</th>\n",
       "      <td>23099</td>\n",
       "      <td>202311</td>\n",
       "      <td>6.49</td>\n",
       "      <td>1</td>\n",
       "      <td>2023</td>\n",
       "      <td>11</td>\n",
       "      <td>-1.00</td>\n",
       "      <td>0.00</td>\n",
       "      <td>0.00</td>\n",
       "      <td>0.00</td>\n",
       "      <td>...</td>\n",
       "      <td>False</td>\n",
       "      <td>False</td>\n",
       "      <td>False</td>\n",
       "      <td>False</td>\n",
       "      <td>False</td>\n",
       "      <td>True</td>\n",
       "      <td>False</td>\n",
       "      <td>False</td>\n",
       "      <td>False</td>\n",
       "      <td>True</td>\n",
       "    </tr>\n",
       "    <tr>\n",
       "      <th>4</th>\n",
       "      <td>23099</td>\n",
       "      <td>202312</td>\n",
       "      <td>6.49</td>\n",
       "      <td>1</td>\n",
       "      <td>2023</td>\n",
       "      <td>12</td>\n",
       "      <td>-1.00</td>\n",
       "      <td>0.00</td>\n",
       "      <td>0.00</td>\n",
       "      <td>0.00</td>\n",
       "      <td>...</td>\n",
       "      <td>False</td>\n",
       "      <td>False</td>\n",
       "      <td>False</td>\n",
       "      <td>False</td>\n",
       "      <td>False</td>\n",
       "      <td>True</td>\n",
       "      <td>False</td>\n",
       "      <td>False</td>\n",
       "      <td>False</td>\n",
       "      <td>True</td>\n",
       "    </tr>\n",
       "    <tr>\n",
       "      <th>...</th>\n",
       "      <td>...</td>\n",
       "      <td>...</td>\n",
       "      <td>...</td>\n",
       "      <td>...</td>\n",
       "      <td>...</td>\n",
       "      <td>...</td>\n",
       "      <td>...</td>\n",
       "      <td>...</td>\n",
       "      <td>...</td>\n",
       "      <td>...</td>\n",
       "      <td>...</td>\n",
       "      <td>...</td>\n",
       "      <td>...</td>\n",
       "      <td>...</td>\n",
       "      <td>...</td>\n",
       "      <td>...</td>\n",
       "      <td>...</td>\n",
       "      <td>...</td>\n",
       "      <td>...</td>\n",
       "      <td>...</td>\n",
       "      <td>...</td>\n",
       "    </tr>\n",
       "    <tr>\n",
       "      <th>78175</th>\n",
       "      <td>35969</td>\n",
       "      <td>202312</td>\n",
       "      <td>16.26</td>\n",
       "      <td>1</td>\n",
       "      <td>2023</td>\n",
       "      <td>12</td>\n",
       "      <td>0.00</td>\n",
       "      <td>0.00</td>\n",
       "      <td>0.00</td>\n",
       "      <td>0.00</td>\n",
       "      <td>...</td>\n",
       "      <td>False</td>\n",
       "      <td>False</td>\n",
       "      <td>False</td>\n",
       "      <td>False</td>\n",
       "      <td>False</td>\n",
       "      <td>False</td>\n",
       "      <td>True</td>\n",
       "      <td>False</td>\n",
       "      <td>False</td>\n",
       "      <td>True</td>\n",
       "    </tr>\n",
       "    <tr>\n",
       "      <th>78176</th>\n",
       "      <td>35969</td>\n",
       "      <td>202310</td>\n",
       "      <td>16.26</td>\n",
       "      <td>1</td>\n",
       "      <td>2023</td>\n",
       "      <td>10</td>\n",
       "      <td>0.00</td>\n",
       "      <td>0.00</td>\n",
       "      <td>0.00</td>\n",
       "      <td>0.00</td>\n",
       "      <td>...</td>\n",
       "      <td>False</td>\n",
       "      <td>False</td>\n",
       "      <td>False</td>\n",
       "      <td>False</td>\n",
       "      <td>False</td>\n",
       "      <td>False</td>\n",
       "      <td>True</td>\n",
       "      <td>False</td>\n",
       "      <td>False</td>\n",
       "      <td>True</td>\n",
       "    </tr>\n",
       "    <tr>\n",
       "      <th>78177</th>\n",
       "      <td>8429</td>\n",
       "      <td>202311</td>\n",
       "      <td>6.19</td>\n",
       "      <td>1</td>\n",
       "      <td>2023</td>\n",
       "      <td>11</td>\n",
       "      <td>0.00</td>\n",
       "      <td>0.00</td>\n",
       "      <td>0.00</td>\n",
       "      <td>0.00</td>\n",
       "      <td>...</td>\n",
       "      <td>False</td>\n",
       "      <td>False</td>\n",
       "      <td>False</td>\n",
       "      <td>False</td>\n",
       "      <td>False</td>\n",
       "      <td>True</td>\n",
       "      <td>False</td>\n",
       "      <td>False</td>\n",
       "      <td>False</td>\n",
       "      <td>True</td>\n",
       "    </tr>\n",
       "    <tr>\n",
       "      <th>78178</th>\n",
       "      <td>8429</td>\n",
       "      <td>202312</td>\n",
       "      <td>6.19</td>\n",
       "      <td>1</td>\n",
       "      <td>2023</td>\n",
       "      <td>12</td>\n",
       "      <td>0.00</td>\n",
       "      <td>0.00</td>\n",
       "      <td>0.00</td>\n",
       "      <td>0.00</td>\n",
       "      <td>...</td>\n",
       "      <td>False</td>\n",
       "      <td>False</td>\n",
       "      <td>False</td>\n",
       "      <td>False</td>\n",
       "      <td>False</td>\n",
       "      <td>True</td>\n",
       "      <td>False</td>\n",
       "      <td>False</td>\n",
       "      <td>False</td>\n",
       "      <td>True</td>\n",
       "    </tr>\n",
       "    <tr>\n",
       "      <th>78179</th>\n",
       "      <td>8429</td>\n",
       "      <td>202310</td>\n",
       "      <td>6.19</td>\n",
       "      <td>1</td>\n",
       "      <td>2023</td>\n",
       "      <td>10</td>\n",
       "      <td>0.00</td>\n",
       "      <td>0.00</td>\n",
       "      <td>0.00</td>\n",
       "      <td>0.00</td>\n",
       "      <td>...</td>\n",
       "      <td>False</td>\n",
       "      <td>False</td>\n",
       "      <td>False</td>\n",
       "      <td>False</td>\n",
       "      <td>False</td>\n",
       "      <td>True</td>\n",
       "      <td>False</td>\n",
       "      <td>False</td>\n",
       "      <td>False</td>\n",
       "      <td>True</td>\n",
       "    </tr>\n",
       "  </tbody>\n",
       "</table>\n",
       "<p>78180 rows × 26 columns</p>\n",
       "</div>"
      ],
      "text/plain": [
       "      merchant_id month_id  net_payment_count settlement_period  year month  \\\n",
       "0           36004   202311               6.93                 1  2023    11   \n",
       "1           36004   202312               6.90                 1  2023    12   \n",
       "2           36004   202310               6.93                 1  2023    10   \n",
       "3           23099   202311               6.49                 1  2023    11   \n",
       "4           23099   202312               6.49                 1  2023    12   \n",
       "...           ...      ...                ...               ...   ...   ...   \n",
       "78175       35969   202312              16.26                 1  2023    12   \n",
       "78176       35969   202310              16.26                 1  2023    10   \n",
       "78177        8429   202311               6.19                 1  2023    11   \n",
       "78178        8429   202312               6.19                 1  2023    12   \n",
       "78179        8429   202310               6.19                 1  2023    10   \n",
       "\n",
       "      mcc_id_hash_0 mcc_id_hash_1 mcc_id_hash_2 mcc_id_hash_3  ...  \\\n",
       "0              0.00          0.00          0.00          0.00  ...   \n",
       "1              0.00          0.00          0.00          0.00  ...   \n",
       "2              0.00          0.00          0.00          0.00  ...   \n",
       "3             -1.00          0.00          0.00          0.00  ...   \n",
       "4             -1.00          0.00          0.00          0.00  ...   \n",
       "...             ...           ...           ...           ...  ...   \n",
       "78175          0.00          0.00          0.00          0.00  ...   \n",
       "78176          0.00          0.00          0.00          0.00  ...   \n",
       "78177          0.00          0.00          0.00          0.00  ...   \n",
       "78178          0.00          0.00          0.00          0.00  ...   \n",
       "78179          0.00          0.00          0.00          0.00  ...   \n",
       "\n",
       "      merchant_source_name_Merchant Source - 2  \\\n",
       "0                                        False   \n",
       "1                                        False   \n",
       "2                                        False   \n",
       "3                                        False   \n",
       "4                                        False   \n",
       "...                                        ...   \n",
       "78175                                    False   \n",
       "78176                                    False   \n",
       "78177                                    False   \n",
       "78178                                    False   \n",
       "78179                                    False   \n",
       "\n",
       "      merchant_source_name_Merchant Source - 3 working_type_Working Type - 2  \\\n",
       "0                                        False                          True   \n",
       "1                                        False                          True   \n",
       "2                                        False                          True   \n",
       "3                                        False                         False   \n",
       "4                                        False                         False   \n",
       "...                                        ...                           ...   \n",
       "78175                                    False                         False   \n",
       "78176                                    False                         False   \n",
       "78177                                    False                         False   \n",
       "78178                                    False                         False   \n",
       "78179                                    False                         False   \n",
       "\n",
       "      working_type_Working Type - 3 working_type_Working Type - 4  \\\n",
       "0                             False                         False   \n",
       "1                             False                         False   \n",
       "2                             False                         False   \n",
       "3                             False                         False   \n",
       "4                             False                         False   \n",
       "...                             ...                           ...   \n",
       "78175                         False                         False   \n",
       "78176                         False                         False   \n",
       "78177                         False                         False   \n",
       "78178                         False                         False   \n",
       "78179                         False                         False   \n",
       "\n",
       "      working_type_Working Type - 5  working_type_Working Type - 6  \\\n",
       "0                             False                          False   \n",
       "1                             False                          False   \n",
       "2                             False                          False   \n",
       "3                              True                          False   \n",
       "4                              True                          False   \n",
       "...                             ...                            ...   \n",
       "78175                         False                           True   \n",
       "78176                         False                           True   \n",
       "78177                          True                          False   \n",
       "78178                          True                          False   \n",
       "78179                          True                          False   \n",
       "\n",
       "       merchant_segment_Segment - 2  merchant_segment_Segment - 3  \\\n",
       "0                             False                         False   \n",
       "1                             False                         False   \n",
       "2                             False                         False   \n",
       "3                             False                         False   \n",
       "4                             False                         False   \n",
       "...                             ...                           ...   \n",
       "78175                         False                         False   \n",
       "78176                         False                         False   \n",
       "78177                         False                         False   \n",
       "78178                         False                         False   \n",
       "78179                         False                         False   \n",
       "\n",
       "       merchant_segment_Segment - 4  \n",
       "0                              True  \n",
       "1                              True  \n",
       "2                              True  \n",
       "3                              True  \n",
       "4                              True  \n",
       "...                             ...  \n",
       "78175                          True  \n",
       "78176                          True  \n",
       "78177                          True  \n",
       "78178                          True  \n",
       "78179                          True  \n",
       "\n",
       "[78180 rows x 26 columns]"
      ]
     },
     "execution_count": 43,
     "metadata": {},
     "output_type": "execute_result"
    }
   ],
   "source": [
    "test"
   ]
  },
  {
   "cell_type": "code",
   "execution_count": 44,
   "id": "1456d69e",
   "metadata": {
    "execution": {
     "iopub.execute_input": "2024-02-10T11:15:32.037875Z",
     "iopub.status.busy": "2024-02-10T11:15:32.036809Z",
     "iopub.status.idle": "2024-02-10T11:15:32.097678Z",
     "shell.execute_reply": "2024-02-10T11:15:32.096694Z"
    },
    "papermill": {
     "duration": 0.085496,
     "end_time": "2024-02-10T11:15:32.100421",
     "exception": false,
     "start_time": "2024-02-10T11:15:32.014925",
     "status": "completed"
    },
    "tags": []
   },
   "outputs": [],
   "source": [
    "def add_prefix_to_merchant_id(df, col_name, prefix='merchant_'):\n",
    "    \"\"\"\n",
    "    Verilen bir DataFrame'deki belirli bir kolondaki tüm satırların başına\n",
    "    belirtilen önek ekleyen fonksiyon.\n",
    "\n",
    "    Parameters:\n",
    "    - df: DataFrame\n",
    "        Veri seti\n",
    "    - col_name: str\n",
    "        İşlem yapılacak kolonun adı\n",
    "    - prefix: str\n",
    "        Eklemek istenen önek (varsayılan: 'merchant_')\n",
    "\n",
    "    Returns:\n",
    "    - DataFrame\n",
    "        İşlenmiş veri seti\n",
    "    \"\"\"\n",
    "    df_copy = df.copy()  # orijinal veriyi korumak için kopya oluştur\n",
    "\n",
    "    # Belirtilen kolondaki tüm satırların başına önek ekle\n",
    "    df_copy[col_name] = prefix + df_copy[col_name].astype(str)\n",
    "\n",
    "    return df_copy\n",
    "\n",
    "# Fonksiyonu kullanarak 'test' verisi için 'merchant_id' satırlarına önek ekleme\n",
    "test = add_prefix_to_merchant_id(test, 'merchant_id', prefix='merchant_')"
   ]
  },
  {
   "cell_type": "code",
   "execution_count": 45,
   "id": "2cbc38ea",
   "metadata": {
    "execution": {
     "iopub.execute_input": "2024-02-10T11:15:32.146721Z",
     "iopub.status.busy": "2024-02-10T11:15:32.145938Z",
     "iopub.status.idle": "2024-02-10T11:15:32.492391Z",
     "shell.execute_reply": "2024-02-10T11:15:32.491612Z"
    },
    "papermill": {
     "duration": 0.370801,
     "end_time": "2024-02-10T11:15:32.494789",
     "exception": false,
     "start_time": "2024-02-10T11:15:32.123988",
     "status": "completed"
    },
    "tags": []
   },
   "outputs": [],
   "source": [
    "# 'id' ve 'net_payment_count' sütunlarını içeren submission DataFrame'ini oluşturma\n",
    "submission = test[['month_id', 'merchant_id', 'net_payment_count']]\n",
    "\n",
    "submission['id'] = submission['month_id'].astype(str) + submission['merchant_id'].astype(str)\n",
    "\n",
    "submission = submission.drop(['month_id', 'merchant_id'], axis=1)\n",
    "\n",
    "submission = submission[[\"id\", \"net_payment_count\"]]\n",
    "\n",
    "# 'submission.csv' olarak kaydetme\n",
    "submission.to_csv('/kaggle/working/submission.csv', index=False)"
   ]
  }
 ],
 "metadata": {
  "kaggle": {
   "accelerator": "nvidiaTeslaT4",
   "dataSources": [
    {
     "databundleVersionId": 7547755,
     "sourceId": 67726,
     "sourceType": "competition"
    }
   ],
   "dockerImageVersionId": 30635,
   "isGpuEnabled": true,
   "isInternetEnabled": true,
   "language": "python",
   "sourceType": "notebook"
  },
  "kernelspec": {
   "display_name": "Python 3",
   "language": "python",
   "name": "python3"
  },
  "language_info": {
   "codemirror_mode": {
    "name": "ipython",
    "version": 3
   },
   "file_extension": ".py",
   "mimetype": "text/x-python",
   "name": "python",
   "nbconvert_exporter": "python",
   "pygments_lexer": "ipython3",
   "version": "3.10.12"
  },
  "papermill": {
   "default_parameters": {},
   "duration": 441.596198,
   "end_time": "2024-02-10T11:15:33.238111",
   "environment_variables": {},
   "exception": null,
   "input_path": "__notebook__.ipynb",
   "output_path": "__notebook__.ipynb",
   "parameters": {},
   "start_time": "2024-02-10T11:08:11.641913",
   "version": "2.4.0"
  }
 },
 "nbformat": 4,
 "nbformat_minor": 5
}
