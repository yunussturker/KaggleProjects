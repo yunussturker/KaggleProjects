{
 "cells": [
  {
   "cell_type": "code",
   "execution_count": null,
   "metadata": {
    "_cell_guid": "b1076dfc-b9ad-4769-8c92-a6c4dae69d19",
    "_uuid": "8f2839f25d086af736a60e9eeb907d3b93b6e0e5",
    "execution": {
     "iopub.execute_input": "2023-01-02T09:19:50.899400Z",
     "iopub.status.busy": "2023-01-02T09:19:50.898519Z",
     "iopub.status.idle": "2023-01-02T09:19:52.089166Z",
     "shell.execute_reply": "2023-01-02T09:19:52.087852Z",
     "shell.execute_reply.started": "2023-01-02T09:19:50.899295Z"
    }
   },
   "outputs": [],
   "source": [
    "# This Python 3 environment comes with many helpful analytics libraries installed\n",
    "# It is defined by the kaggle/python Docker image: https://github.com/kaggle/docker-python\n",
    "# For example, here's several helpful packages to load\n",
    "\n",
    "import numpy as np # linear algebra\n",
    "import pandas as pd # data processing, CSV file I/O (e.g. pd.read_csv)\n",
    "import seaborn as sns\n",
    "import matplotlib.pyplot as plt\n",
    "\n",
    "# Input data files are available in the read-only \"../input/\" directory\n",
    "# For example, running this (by clicking run or pressing Shift+Enter) will list all files under the input directory\n",
    "\n",
    "import os\n",
    "for dirname, _, filenames in os.walk('/kaggle/input'):\n",
    "    for filename in filenames:\n",
    "        print(os.path.join(dirname, filename))\n",
    "\n",
    "# You can write up to 20GB to the current directory (/kaggle/working/) that gets preserved as output when you create a version using \"Save & Run All\" \n",
    "# You can also write temporary files to /kaggle/temp/, but they won't be saved outside of the current session"
   ]
  },
  {
   "cell_type": "code",
   "execution_count": null,
   "metadata": {
    "execution": {
     "iopub.execute_input": "2023-01-02T09:19:52.092390Z",
     "iopub.status.busy": "2023-01-02T09:19:52.091623Z",
     "iopub.status.idle": "2023-01-02T09:19:52.150187Z",
     "shell.execute_reply": "2023-01-02T09:19:52.148851Z",
     "shell.execute_reply.started": "2023-01-02T09:19:52.092342Z"
    }
   },
   "outputs": [],
   "source": [
    "training = pd.read_csv(\"/kaggle/input/titanic/train.csv\")\n",
    "test = pd.read_csv(\"/kaggle/input/titanic/test.csv\")\n",
    "\n",
    "training[\"train_test\"] = 1\n",
    "test[\"train_test\"] = 0\n",
    "test[\"Survived\"] = np.NaN\n",
    "all_data = pd.concat([training, test])\n",
    "\n",
    "%matplotlib inline\n",
    "all_data.columns"
   ]
  },
  {
   "cell_type": "code",
   "execution_count": null,
   "metadata": {
    "execution": {
     "iopub.execute_input": "2023-01-02T09:19:52.153236Z",
     "iopub.status.busy": "2023-01-02T09:19:52.152368Z",
     "iopub.status.idle": "2023-01-02T09:19:52.175065Z",
     "shell.execute_reply": "2023-01-02T09:19:52.173827Z",
     "shell.execute_reply.started": "2023-01-02T09:19:52.153187Z"
    }
   },
   "outputs": [],
   "source": [
    "training.info()"
   ]
  },
  {
   "cell_type": "code",
   "execution_count": null,
   "metadata": {
    "execution": {
     "iopub.execute_input": "2023-01-02T09:19:52.179364Z",
     "iopub.status.busy": "2023-01-02T09:19:52.178463Z",
     "iopub.status.idle": "2023-01-02T09:19:52.236969Z",
     "shell.execute_reply": "2023-01-02T09:19:52.235771Z",
     "shell.execute_reply.started": "2023-01-02T09:19:52.179314Z"
    }
   },
   "outputs": [],
   "source": [
    "training.describe().T"
   ]
  },
  {
   "cell_type": "code",
   "execution_count": null,
   "metadata": {
    "execution": {
     "iopub.execute_input": "2023-01-02T09:19:52.239456Z",
     "iopub.status.busy": "2023-01-02T09:19:52.238737Z",
     "iopub.status.idle": "2023-01-02T09:19:52.247737Z",
     "shell.execute_reply": "2023-01-02T09:19:52.246445Z",
     "shell.execute_reply.started": "2023-01-02T09:19:52.239410Z"
    }
   },
   "outputs": [],
   "source": [
    "df_num = training[[\"Age\", \"SibSp\",\"Parch\", \"Fare\"]]\n",
    "df_cat = training[[\"Survived\", \"Pclass\", \"Sex\", \"Ticket\", \"Cabin\", \"Embarked\"]]"
   ]
  },
  {
   "cell_type": "code",
   "execution_count": null,
   "metadata": {
    "execution": {
     "iopub.execute_input": "2023-01-02T09:19:52.250478Z",
     "iopub.status.busy": "2023-01-02T09:19:52.249669Z",
     "iopub.status.idle": "2023-01-02T09:19:53.262366Z",
     "shell.execute_reply": "2023-01-02T09:19:53.261505Z",
     "shell.execute_reply.started": "2023-01-02T09:19:52.250431Z"
    }
   },
   "outputs": [],
   "source": [
    "for i in df_num.columns:\n",
    "    plt.hist(df_num[i])\n",
    "    plt.title(i)\n",
    "    plt.show()"
   ]
  },
  {
   "cell_type": "code",
   "execution_count": null,
   "metadata": {
    "execution": {
     "iopub.execute_input": "2023-01-02T09:19:53.264087Z",
     "iopub.status.busy": "2023-01-02T09:19:53.263611Z",
     "iopub.status.idle": "2023-01-02T09:19:53.552361Z",
     "shell.execute_reply": "2023-01-02T09:19:53.550862Z",
     "shell.execute_reply.started": "2023-01-02T09:19:53.264056Z"
    }
   },
   "outputs": [],
   "source": [
    "print(df_num.corr())\n",
    "sns.heatmap(df_num.corr())"
   ]
  },
  {
   "cell_type": "code",
   "execution_count": null,
   "metadata": {
    "execution": {
     "iopub.execute_input": "2023-01-02T09:19:53.555963Z",
     "iopub.status.busy": "2023-01-02T09:19:53.554942Z",
     "iopub.status.idle": "2023-01-02T09:19:53.583696Z",
     "shell.execute_reply": "2023-01-02T09:19:53.582203Z",
     "shell.execute_reply.started": "2023-01-02T09:19:53.555913Z"
    }
   },
   "outputs": [],
   "source": [
    "pd.pivot_table(training, index=\"Survived\", values=df_num)"
   ]
  },
  {
   "cell_type": "code",
   "execution_count": null,
   "metadata": {
    "execution": {
     "iopub.execute_input": "2023-01-02T09:19:53.586265Z",
     "iopub.status.busy": "2023-01-02T09:19:53.585620Z",
     "iopub.status.idle": "2023-01-02T09:19:53.592813Z",
     "shell.execute_reply": "2023-01-02T09:19:53.591333Z",
     "shell.execute_reply.started": "2023-01-02T09:19:53.586215Z"
    }
   },
   "outputs": [],
   "source": [
    "import warnings \n",
    "warnings.filterwarnings('ignore')"
   ]
  },
  {
   "cell_type": "code",
   "execution_count": null,
   "metadata": {
    "execution": {
     "iopub.execute_input": "2023-01-02T09:19:53.600950Z",
     "iopub.status.busy": "2023-01-02T09:19:53.600067Z",
     "iopub.status.idle": "2023-01-02T09:20:04.968301Z",
     "shell.execute_reply": "2023-01-02T09:20:04.967165Z",
     "shell.execute_reply.started": "2023-01-02T09:19:53.600909Z"
    }
   },
   "outputs": [],
   "source": [
    "for i in df_cat.columns:\n",
    "    sns.barplot(df_cat[i].value_counts().index, df_cat[i].value_counts()).set_title(i)\n",
    "    plt.show()"
   ]
  },
  {
   "cell_type": "code",
   "execution_count": null,
   "metadata": {
    "execution": {
     "iopub.execute_input": "2023-01-02T09:20:04.970083Z",
     "iopub.status.busy": "2023-01-02T09:20:04.969731Z",
     "iopub.status.idle": "2023-01-02T09:20:05.017844Z",
     "shell.execute_reply": "2023-01-02T09:20:05.016799Z",
     "shell.execute_reply.started": "2023-01-02T09:20:04.970052Z"
    }
   },
   "outputs": [],
   "source": [
    "print(pd.pivot_table(training, index=\"Survived\", columns=\"Pclass\", values=\"Ticket\", aggfunc=\"count\"))\n",
    "print()\n",
    "print(pd.pivot_table(training, index=\"Survived\", columns=\"Sex\", values=\"Ticket\", aggfunc=\"count\"))\n",
    "print()\n",
    "print(pd.pivot_table(training, index=\"Survived\", columns=\"Embarked\", values=\"Ticket\", aggfunc=\"count\"))"
   ]
  },
  {
   "cell_type": "code",
   "execution_count": null,
   "metadata": {
    "execution": {
     "iopub.execute_input": "2023-01-02T09:20:05.020078Z",
     "iopub.status.busy": "2023-01-02T09:20:05.019089Z",
     "iopub.status.idle": "2023-01-02T09:20:05.032581Z",
     "shell.execute_reply": "2023-01-02T09:20:05.031402Z",
     "shell.execute_reply.started": "2023-01-02T09:20:05.020038Z"
    }
   },
   "outputs": [],
   "source": [
    "df_cat.Cabin\n",
    "training[\"cabin_multiple\"] = training.Cabin.apply(lambda x: 0 if pd.isna(x) else len(x.split(\" \")))\n",
    "training[\"cabin_multiple\"].value_counts()"
   ]
  },
  {
   "cell_type": "code",
   "execution_count": null,
   "metadata": {
    "execution": {
     "iopub.execute_input": "2023-01-02T09:20:05.034812Z",
     "iopub.status.busy": "2023-01-02T09:20:05.034384Z",
     "iopub.status.idle": "2023-01-02T09:20:05.060279Z",
     "shell.execute_reply": "2023-01-02T09:20:05.059166Z",
     "shell.execute_reply.started": "2023-01-02T09:20:05.034766Z"
    }
   },
   "outputs": [],
   "source": [
    "pd.pivot_table(training, index=\"Survived\", columns=\"cabin_multiple\", values=\"Ticket\", aggfunc=\"count\")"
   ]
  },
  {
   "cell_type": "code",
   "execution_count": null,
   "metadata": {
    "execution": {
     "iopub.execute_input": "2023-01-02T09:20:05.062192Z",
     "iopub.status.busy": "2023-01-02T09:20:05.061819Z",
     "iopub.status.idle": "2023-01-02T09:20:05.069143Z",
     "shell.execute_reply": "2023-01-02T09:20:05.068253Z",
     "shell.execute_reply.started": "2023-01-02T09:20:05.062157Z"
    }
   },
   "outputs": [],
   "source": [
    "training[\"cabin_adv\"] = training.Cabin.apply(lambda x: str(x)[0])"
   ]
  },
  {
   "cell_type": "code",
   "execution_count": null,
   "metadata": {
    "execution": {
     "iopub.execute_input": "2023-01-02T09:20:05.071580Z",
     "iopub.status.busy": "2023-01-02T09:20:05.070528Z",
     "iopub.status.idle": "2023-01-02T09:20:05.105829Z",
     "shell.execute_reply": "2023-01-02T09:20:05.105030Z",
     "shell.execute_reply.started": "2023-01-02T09:20:05.071543Z"
    }
   },
   "outputs": [],
   "source": [
    "print(training.cabin_adv.value_counts())\n",
    "pd.pivot_table(training, index=\"Survived\", columns=\"cabin_adv\", values=\"Name\", aggfunc=\"count\")"
   ]
  },
  {
   "cell_type": "code",
   "execution_count": null,
   "metadata": {
    "execution": {
     "iopub.execute_input": "2023-01-02T09:20:05.108009Z",
     "iopub.status.busy": "2023-01-02T09:20:05.106980Z",
     "iopub.status.idle": "2023-01-02T09:20:05.119480Z",
     "shell.execute_reply": "2023-01-02T09:20:05.118268Z",
     "shell.execute_reply.started": "2023-01-02T09:20:05.107958Z"
    }
   },
   "outputs": [],
   "source": [
    "training[\"numeric_tickets\"] = training.Ticket.apply(lambda x: 1 if x.isnumeric() else 0)\n",
    "training[\"ticket_letters\"] = training.Ticket.apply(lambda x: \"\".join(x.split(\" \")[:-1]).replace(\".\",\"\").replace(\"/\",\"\").lower() if len(x.split(\" \")[:-1]) > 0 else 0)"
   ]
  },
  {
   "cell_type": "code",
   "execution_count": null,
   "metadata": {
    "execution": {
     "iopub.execute_input": "2023-01-02T09:20:05.122741Z",
     "iopub.status.busy": "2023-01-02T09:20:05.121168Z",
     "iopub.status.idle": "2023-01-02T09:20:05.135534Z",
     "shell.execute_reply": "2023-01-02T09:20:05.134206Z",
     "shell.execute_reply.started": "2023-01-02T09:20:05.122699Z"
    }
   },
   "outputs": [],
   "source": [
    "training[\"numeric_tickets\"].value_counts()"
   ]
  },
  {
   "cell_type": "code",
   "execution_count": null,
   "metadata": {
    "execution": {
     "iopub.execute_input": "2023-01-02T09:20:05.137463Z",
     "iopub.status.busy": "2023-01-02T09:20:05.136728Z",
     "iopub.status.idle": "2023-01-02T09:20:05.149153Z",
     "shell.execute_reply": "2023-01-02T09:20:05.147627Z",
     "shell.execute_reply.started": "2023-01-02T09:20:05.137431Z"
    }
   },
   "outputs": [],
   "source": [
    "pd.set_option(\"max_rows\", None)\n",
    "training[\"ticket_letters\"].value_counts()"
   ]
  },
  {
   "cell_type": "code",
   "execution_count": null,
   "metadata": {
    "execution": {
     "iopub.execute_input": "2023-01-02T09:20:05.150901Z",
     "iopub.status.busy": "2023-01-02T09:20:05.150565Z",
     "iopub.status.idle": "2023-01-02T09:20:05.173377Z",
     "shell.execute_reply": "2023-01-02T09:20:05.172158Z",
     "shell.execute_reply.started": "2023-01-02T09:20:05.150872Z"
    }
   },
   "outputs": [],
   "source": [
    "pd.pivot_table(training, index=\"Survived\", columns=\"numeric_tickets\", values=\"Ticket\", aggfunc=\"count\")"
   ]
  },
  {
   "cell_type": "code",
   "execution_count": null,
   "metadata": {
    "execution": {
     "iopub.execute_input": "2023-01-02T09:20:05.175451Z",
     "iopub.status.busy": "2023-01-02T09:20:05.174854Z",
     "iopub.status.idle": "2023-01-02T09:20:05.214621Z",
     "shell.execute_reply": "2023-01-02T09:20:05.213305Z",
     "shell.execute_reply.started": "2023-01-02T09:20:05.175413Z"
    }
   },
   "outputs": [],
   "source": [
    "pd.pivot_table(training, index=\"Survived\", columns=\"ticket_letters\", values=\"Ticket\", aggfunc=\"count\")"
   ]
  },
  {
   "cell_type": "code",
   "execution_count": null,
   "metadata": {
    "execution": {
     "iopub.execute_input": "2023-01-02T09:20:05.216540Z",
     "iopub.status.busy": "2023-01-02T09:20:05.216057Z",
     "iopub.status.idle": "2023-01-02T09:20:05.225742Z",
     "shell.execute_reply": "2023-01-02T09:20:05.224086Z",
     "shell.execute_reply.started": "2023-01-02T09:20:05.216494Z"
    }
   },
   "outputs": [],
   "source": [
    "training.Name.head(50)\n",
    "training[\"name_title\"] = training.Name.apply(lambda x: x.split(\",\")[1].split(\".\")[0].strip())"
   ]
  },
  {
   "cell_type": "code",
   "execution_count": null,
   "metadata": {
    "execution": {
     "iopub.execute_input": "2023-01-02T09:20:05.228002Z",
     "iopub.status.busy": "2023-01-02T09:20:05.227501Z",
     "iopub.status.idle": "2023-01-02T09:20:05.240889Z",
     "shell.execute_reply": "2023-01-02T09:20:05.239693Z",
     "shell.execute_reply.started": "2023-01-02T09:20:05.227954Z"
    }
   },
   "outputs": [],
   "source": [
    "training[\"name_title\"].value_counts()"
   ]
  },
  {
   "cell_type": "markdown",
   "metadata": {},
   "source": [
    "### Data Preprocessing"
   ]
  },
  {
   "cell_type": "code",
   "execution_count": null,
   "metadata": {
    "execution": {
     "iopub.execute_input": "2023-01-02T09:20:05.242586Z",
     "iopub.status.busy": "2023-01-02T09:20:05.242266Z",
     "iopub.status.idle": "2023-01-02T09:20:05.559622Z",
     "shell.execute_reply": "2023-01-02T09:20:05.558312Z",
     "shell.execute_reply.started": "2023-01-02T09:20:05.242558Z"
    }
   },
   "outputs": [],
   "source": [
    "all_data[\"cabin_multiple\"] = all_data.Cabin.apply(lambda x: 0 if pd.isna(x) else len(x.split(\" \")))\n",
    "all_data[\"cabin_adv\"] = all_data.Cabin.apply(lambda x: str(x)[0])\n",
    "all_data[\"numeric_tickets\"] = all_data.Ticket.apply(lambda x: 1 if x.isnumeric() else 0)\n",
    "all_data[\"ticket_letters\"] = all_data.Ticket.apply(lambda x: \"\".join(x.split(\" \")[:-1]).replace(\".\",\"\").replace(\"/\",\"\").lower() if len(x.split(\" \")[:-1]) > 0 else 0)\n",
    "all_data[\"name_title\"] = all_data.Name.apply(lambda x: x.split(\",\")[1].split(\".\")[0].strip())\n",
    "\n",
    "all_data.Age = all_data.Age.fillna(training.Age.mean())\n",
    "all_data.Fare = all_data.Fare.fillna(training.Fare.mean())\n",
    "\n",
    "all_data.dropna(subset=[\"Embarked\"], inplace=True)\n",
    "\n",
    "all_data[\"norm_sibsp\"] = np.log(all_data.SibSp+1)\n",
    "all_data[\"norm_sibsp\"].hist()\n",
    "\n",
    "all_data[\"norm_fare\"] = np.log(all_data.Fare+1)\n",
    "all_data[\"norm_fare\"].hist()\n",
    "\n",
    "all_data.Pclass = all_data.Pclass.astype(str)\n",
    "\n",
    "all_dummies = pd.get_dummies(all_data[[\"Pclass\", \"Sex\", \"Age\", \"SibSp\",\"Parch\", \"norm_fare\", \n",
    "\"Embarked\", \"cabin_adv\", \"cabin_multiple\", \"numeric_tickets\", \"name_title\", \"train_test\"]])\n",
    "\n",
    "X_train = all_dummies[all_dummies.train_test == 1].drop([\"train_test\"], axis=1)\n",
    "X_test = all_dummies[all_dummies.train_test == 0].drop([\"train_test\"], axis=1)\n",
    "\n",
    "y_train = all_data[all_data.train_test == 1].Survived\n",
    "y_train.shape"
   ]
  },
  {
   "cell_type": "code",
   "execution_count": null,
   "metadata": {
    "execution": {
     "iopub.execute_input": "2023-01-02T09:20:05.561139Z",
     "iopub.status.busy": "2023-01-02T09:20:05.560804Z",
     "iopub.status.idle": "2023-01-02T09:20:05.893513Z",
     "shell.execute_reply": "2023-01-02T09:20:05.892372Z",
     "shell.execute_reply.started": "2023-01-02T09:20:05.561093Z"
    }
   },
   "outputs": [],
   "source": [
    "from sklearn.preprocessing import StandardScaler\n",
    "scaler = StandardScaler()\n",
    "all_dummies_scaled = all_dummies.copy()\n",
    "all_dummies_scaled[[\"Age\", \"SibSp\", \"Parch\", \"norm_fare\"]] = scaler.fit_transform(\n",
    "    all_dummies_scaled[[\"Age\", \"SibSp\", \"Parch\", \"norm_fare\"]])\n",
    "\n",
    "all_dummies_scaled\n",
    "\n",
    "X_train_scaled = all_dummies_scaled[all_dummies_scaled.train_test == 1].drop(\n",
    "[\"train_test\"], axis=1)\n",
    "X_test_scaled = all_dummies_scaled[all_dummies_scaled.train_test == 0].drop(\n",
    "[\"train_test\"], axis=1)"
   ]
  },
  {
   "cell_type": "markdown",
   "metadata": {},
   "source": [
    "### Model Building"
   ]
  },
  {
   "cell_type": "markdown",
   "metadata": {},
   "source": [
    "##### NaiveBayes = %72.21\n",
    "##### LogisticRegression = %82.11\n",
    "##### DecisionTreeClassifier = %77.39\n",
    "##### KNeighborsClassifier = %81.55\n",
    "##### RandomForestClassifier = %80.54\n",
    "##### SVC = %83.24\n",
    "##### XGBClassifier = %81.77\n",
    "##### VotingClassifier = %82.79"
   ]
  },
  {
   "cell_type": "code",
   "execution_count": null,
   "metadata": {
    "execution": {
     "iopub.execute_input": "2023-01-02T09:20:05.895682Z",
     "iopub.status.busy": "2023-01-02T09:20:05.895218Z",
     "iopub.status.idle": "2023-01-02T09:20:06.189902Z",
     "shell.execute_reply": "2023-01-02T09:20:06.188561Z",
     "shell.execute_reply.started": "2023-01-02T09:20:05.895638Z"
    }
   },
   "outputs": [],
   "source": [
    "from sklearn.model_selection import cross_val_score\n",
    "from sklearn.naive_bayes import GaussianNB\n",
    "from sklearn.linear_model import LogisticRegression\n",
    "from sklearn import tree\n",
    "from sklearn.neighbors import KNeighborsClassifier\n",
    "from sklearn.ensemble import RandomForestClassifier\n",
    "from sklearn.svm import SVC"
   ]
  },
  {
   "cell_type": "code",
   "execution_count": null,
   "metadata": {
    "execution": {
     "iopub.execute_input": "2023-01-02T09:20:06.192529Z",
     "iopub.status.busy": "2023-01-02T09:20:06.191995Z",
     "iopub.status.idle": "2023-01-02T09:20:06.236169Z",
     "shell.execute_reply": "2023-01-02T09:20:06.235230Z",
     "shell.execute_reply.started": "2023-01-02T09:20:06.192479Z"
    }
   },
   "outputs": [],
   "source": [
    "gnb = GaussianNB()\n",
    "cv = cross_val_score(gnb, X_train_scaled, y_train, cv=5)\n",
    "print(cv)\n",
    "print(cv.mean())"
   ]
  },
  {
   "cell_type": "code",
   "execution_count": null,
   "metadata": {
    "execution": {
     "iopub.execute_input": "2023-01-02T09:20:06.238130Z",
     "iopub.status.busy": "2023-01-02T09:20:06.237772Z",
     "iopub.status.idle": "2023-01-02T09:20:06.546847Z",
     "shell.execute_reply": "2023-01-02T09:20:06.545229Z",
     "shell.execute_reply.started": "2023-01-02T09:20:06.238082Z"
    }
   },
   "outputs": [],
   "source": [
    "lr = LogisticRegression(max_iter = 2000)\n",
    "cv = cross_val_score(lr, X_train_scaled, y_train, cv=5)\n",
    "print(cv)\n",
    "print(cv.mean())"
   ]
  },
  {
   "cell_type": "code",
   "execution_count": null,
   "metadata": {
    "execution": {
     "iopub.execute_input": "2023-01-02T09:20:06.565838Z",
     "iopub.status.busy": "2023-01-02T09:20:06.564470Z",
     "iopub.status.idle": "2023-01-02T09:20:06.664724Z",
     "shell.execute_reply": "2023-01-02T09:20:06.663455Z",
     "shell.execute_reply.started": "2023-01-02T09:20:06.565753Z"
    }
   },
   "outputs": [],
   "source": [
    "dt = tree.DecisionTreeClassifier(random_state=1)\n",
    "cv = cross_val_score(dt, X_train_scaled, y_train, cv=5)\n",
    "print(cv)\n",
    "print(cv.mean())"
   ]
  },
  {
   "cell_type": "code",
   "execution_count": null,
   "metadata": {
    "execution": {
     "iopub.execute_input": "2023-01-02T09:20:06.666446Z",
     "iopub.status.busy": "2023-01-02T09:20:06.666037Z",
     "iopub.status.idle": "2023-01-02T09:20:06.829724Z",
     "shell.execute_reply": "2023-01-02T09:20:06.828089Z",
     "shell.execute_reply.started": "2023-01-02T09:20:06.666400Z"
    }
   },
   "outputs": [],
   "source": [
    "knn = KNeighborsClassifier()\n",
    "cv = cross_val_score(knn, X_train_scaled, y_train, cv=5)\n",
    "print(cv)\n",
    "print(cv.mean())"
   ]
  },
  {
   "cell_type": "code",
   "execution_count": null,
   "metadata": {
    "execution": {
     "iopub.execute_input": "2023-01-02T09:20:06.832791Z",
     "iopub.status.busy": "2023-01-02T09:20:06.831912Z",
     "iopub.status.idle": "2023-01-02T09:20:07.953427Z",
     "shell.execute_reply": "2023-01-02T09:20:07.952152Z",
     "shell.execute_reply.started": "2023-01-02T09:20:06.832730Z"
    }
   },
   "outputs": [],
   "source": [
    "rf = RandomForestClassifier(random_state=1)\n",
    "cv = cross_val_score(rf, X_train_scaled, y_train, cv=5)\n",
    "print(cv)\n",
    "print(cv.mean())"
   ]
  },
  {
   "cell_type": "code",
   "execution_count": null,
   "metadata": {
    "execution": {
     "iopub.execute_input": "2023-01-02T09:20:07.956137Z",
     "iopub.status.busy": "2023-01-02T09:20:07.955047Z",
     "iopub.status.idle": "2023-01-02T09:20:08.583385Z",
     "shell.execute_reply": "2023-01-02T09:20:08.582026Z",
     "shell.execute_reply.started": "2023-01-02T09:20:07.956071Z"
    }
   },
   "outputs": [],
   "source": [
    "svc = SVC(probability=True)\n",
    "cv = cross_val_score(svc, X_train_scaled, y_train, cv=5)\n",
    "print(cv)\n",
    "print(cv.mean())"
   ]
  },
  {
   "cell_type": "code",
   "execution_count": null,
   "metadata": {
    "execution": {
     "iopub.execute_input": "2023-01-02T09:20:08.586030Z",
     "iopub.status.busy": "2023-01-02T09:20:08.585282Z",
     "iopub.status.idle": "2023-01-02T09:20:10.473342Z",
     "shell.execute_reply": "2023-01-02T09:20:10.472343Z",
     "shell.execute_reply.started": "2023-01-02T09:20:08.585982Z"
    }
   },
   "outputs": [],
   "source": [
    "from xgboost import XGBClassifier\n",
    "xgb = XGBClassifier(random_state=1)\n",
    "cv = cross_val_score(xgb, X_train_scaled, y_train, cv=5)\n",
    "print(cv)\n",
    "print(cv.mean())"
   ]
  },
  {
   "cell_type": "code",
   "execution_count": null,
   "metadata": {
    "execution": {
     "iopub.execute_input": "2023-01-02T09:20:10.479993Z",
     "iopub.status.busy": "2023-01-02T09:20:10.477427Z",
     "iopub.status.idle": "2023-01-02T09:20:10.487506Z",
     "shell.execute_reply": "2023-01-02T09:20:10.486317Z",
     "shell.execute_reply.started": "2023-01-02T09:20:10.479948Z"
    }
   },
   "outputs": [],
   "source": [
    "from sklearn.ensemble import VotingClassifier\n",
    "vc = VotingClassifier(estimators=[(\"lr\",lr), (\"knn\",knn), (\"rf\",rf), (\"gnb\",gnb),\n",
    "                                 (\"svc\",svc), (\"xgb\",xgb)], voting=\"soft\")"
   ]
  },
  {
   "cell_type": "code",
   "execution_count": null,
   "metadata": {
    "execution": {
     "iopub.execute_input": "2023-01-02T09:20:10.490008Z",
     "iopub.status.busy": "2023-01-02T09:20:10.489201Z",
     "iopub.status.idle": "2023-01-02T09:20:14.858358Z",
     "shell.execute_reply": "2023-01-02T09:20:14.857021Z",
     "shell.execute_reply.started": "2023-01-02T09:20:10.489862Z"
    }
   },
   "outputs": [],
   "source": [
    "cv = cross_val_score(vc, X_train_scaled, y_train, cv=5)\n",
    "print(cv)\n",
    "print(cv.mean())"
   ]
  },
  {
   "cell_type": "code",
   "execution_count": null,
   "metadata": {
    "execution": {
     "iopub.execute_input": "2023-01-02T09:20:14.861336Z",
     "iopub.status.busy": "2023-01-02T09:20:14.860465Z",
     "iopub.status.idle": "2023-01-02T09:20:15.899504Z",
     "shell.execute_reply": "2023-01-02T09:20:15.898525Z",
     "shell.execute_reply.started": "2023-01-02T09:20:14.861287Z"
    }
   },
   "outputs": [],
   "source": [
    "vc.fit(X_train_scaled, y_train)\n",
    "y_pred_vc = vc.predict(X_test_scaled)\n",
    "basic_submission = {\"PassengerId\": test.PassengerId, \"Survived\": y_pred_vc}\n",
    "base_submission = pd.DataFrame(data=basic_submission)\n",
    "base_submission.to_csv(\"base_submission.csv\", index=False)"
   ]
  },
  {
   "cell_type": "markdown",
   "metadata": {},
   "source": [
    "### Model Tuning"
   ]
  },
  {
   "cell_type": "code",
   "execution_count": null,
   "metadata": {
    "execution": {
     "iopub.execute_input": "2023-01-02T09:20:15.902277Z",
     "iopub.status.busy": "2023-01-02T09:20:15.901407Z",
     "iopub.status.idle": "2023-01-02T09:20:15.910065Z",
     "shell.execute_reply": "2023-01-02T09:20:15.908845Z",
     "shell.execute_reply.started": "2023-01-02T09:20:15.902232Z"
    }
   },
   "outputs": [],
   "source": [
    "from sklearn.model_selection import GridSearchCV\n",
    "from sklearn.model_selection import RandomizedSearchCV\n",
    "\n",
    "def clf_performance(classifier, model_name):\n",
    "    print(model_name)\n",
    "    print(\"Best Score: \" + str(classifier.best_score_))\n",
    "    print(\"Best Parameters: \" + str(classifier.best_params_))"
   ]
  },
  {
   "cell_type": "code",
   "execution_count": null,
   "metadata": {
    "execution": {
     "iopub.execute_input": "2023-01-02T09:20:15.912946Z",
     "iopub.status.busy": "2023-01-02T09:20:15.912369Z",
     "iopub.status.idle": "2023-01-02T09:20:20.331851Z",
     "shell.execute_reply": "2023-01-02T09:20:20.330610Z",
     "shell.execute_reply.started": "2023-01-02T09:20:15.912911Z"
    }
   },
   "outputs": [],
   "source": [
    "lr = LogisticRegression()\n",
    "param = {\"max_iter\": [2000],\n",
    "         \"penalty\": [\"l1\", \"l2\"],\n",
    "         \"C\": np.logspace(-4, 4, 20),\n",
    "         \"solver\": [\"liblinear\"]}\n",
    "\n",
    "clf_lr = GridSearchCV(lr, param, cv=5, n_jobs=-1, verbose=2)\n",
    "best_lr = clf_lr.fit(X_train_scaled, y_train)\n",
    "\n",
    "clf_performance(best_lr, \"Logistic Regression\")"
   ]
  },
  {
   "cell_type": "code",
   "execution_count": null,
   "metadata": {
    "collapsed": true,
    "execution": {
     "iopub.execute_input": "2023-01-02T09:20:20.334215Z",
     "iopub.status.busy": "2023-01-02T09:20:20.333633Z",
     "iopub.status.idle": "2023-01-02T09:20:21.984206Z",
     "shell.execute_reply": "2023-01-02T09:20:21.983309Z",
     "shell.execute_reply.started": "2023-01-02T09:20:20.334178Z"
    },
    "jupyter": {
     "outputs_hidden": true
    }
   },
   "outputs": [],
   "source": [
    "knn = KNeighborsClassifier()\n",
    "params = {\"n_neighbors\": [3, 5, 7, 9],\n",
    "         \"weights\": [\"uniform\", \"distance\"],\n",
    "         \"algorithm\": [\"auto\", \"ball_tree\", \"kd_tree\"],\n",
    "         \"p\": [1, 2]}\n",
    "\n",
    "clf_knn = GridSearchCV(knn, params, cv=5, n_jobs=-1, verbose=2)\n",
    "best_knn = clf_knn.fit(X_train_scaled, y_train)\n",
    "\n",
    "clf_performance(best_knn, \"KNN\")"
   ]
  },
  {
   "cell_type": "code",
   "execution_count": null,
   "metadata": {
    "execution": {
     "iopub.execute_input": "2023-01-02T09:24:39.085326Z",
     "iopub.status.busy": "2023-01-02T09:24:39.084985Z",
     "iopub.status.idle": "2023-01-02T09:28:22.751288Z",
     "shell.execute_reply": "2023-01-02T09:28:22.750147Z",
     "shell.execute_reply.started": "2023-01-02T09:24:39.085294Z"
    }
   },
   "outputs": [],
   "source": [
    "svc = SVC(probability=True)\n",
    "params = [{\"kernel\": [\"rbf\"], \"gamma\": [.1,.5], \"C\": [.1,1]},\n",
    "{\"kernel\": [\"linear\"], \"C\": [.1,1]},\n",
    "{\"kernel\": [\"poly\"], \"degree\": [2,3], \"C\": [.1,1]}]\n",
    "\n",
    "clf_svc = GridSearchCV(svc, params, cv=5, n_jobs=-1, verbose=True)\n",
    "best_svc = clf_svc.fit(X_train_scaled, y_train)\n",
    "\n",
    "clf_performance(best_svc, \"SVC\")"
   ]
  },
  {
   "cell_type": "code",
   "execution_count": null,
   "metadata": {
    "execution": {
     "iopub.execute_input": "2023-01-02T10:09:28.588754Z",
     "iopub.status.busy": "2023-01-02T10:09:28.588328Z",
     "iopub.status.idle": "2023-01-02T10:09:35.738056Z",
     "shell.execute_reply": "2023-01-02T10:09:35.736701Z",
     "shell.execute_reply.started": "2023-01-02T10:09:28.588710Z"
    }
   },
   "outputs": [],
   "source": [
    "rf = RandomForestClassifier(random_state=1)\n",
    "params = {\"n_estimators\": [500],\n",
    "         \"criterion\": [\"gini\"],\n",
    "         \"bootstrap\": [True], \"max_depth\": [20],\n",
    "         \"max_features\": [\"auto\", 10],\n",
    "         \"min_samples_leaf\": [2], \"min_samples_split\": [2]}\n",
    "\n",
    "clf_rf = GridSearchCV(rf, params, cv=5, n_jobs=-1, verbose=True)\n",
    "best_rf = clf_rf.fit(X_train_scaled, y_train)\n",
    "\n",
    "clf_performance(best_rf, \"Random Forest\")"
   ]
  },
  {
   "cell_type": "code",
   "execution_count": null,
   "metadata": {
    "execution": {
     "iopub.execute_input": "2023-01-02T09:39:15.826966Z",
     "iopub.status.busy": "2023-01-02T09:39:15.826575Z",
     "iopub.status.idle": "2023-01-02T09:39:17.212840Z",
     "shell.execute_reply": "2023-01-02T09:39:17.211585Z",
     "shell.execute_reply.started": "2023-01-02T09:39:15.826935Z"
    }
   },
   "outputs": [],
   "source": [
    "best_rf = best_rf.best_estimator_.fit(X_train_scaled, y_train)\n",
    "feat_importances = pd.Series(best_rf.feature_importances_, index=X_train_scaled.columns)\n",
    "feat_importances.nlargest(20).plot(kind=\"barh\")"
   ]
  },
  {
   "cell_type": "code",
   "execution_count": null,
   "metadata": {
    "execution": {
     "iopub.execute_input": "2023-01-02T09:44:41.408269Z",
     "iopub.status.busy": "2023-01-02T09:44:41.406971Z",
     "iopub.status.idle": "2023-01-02T09:46:53.924048Z",
     "shell.execute_reply": "2023-01-02T09:46:53.923001Z",
     "shell.execute_reply.started": "2023-01-02T09:44:41.408211Z"
    }
   },
   "outputs": [],
   "source": [
    "xgb = XGBClassifier(random_state=1)\n",
    "\n",
    "params = {\"n_estimators\": [500, 550], \"colsample_bytree\": [0.75, 0.8],\n",
    "         \"max_depth\": [None], \"reg_alpha\": [1], \"reg_lambda\": [2, 5],\n",
    "         \"subsample\": [0.6, 0.65], \"learning_rate\": [0.5], \"gamma\": [0.5, 1],\n",
    "         \"min_child_weight\": [0.01], \"sampling_method\": [\"uniform\"]}\n",
    "\n",
    "clf_xgb = GridSearchCV(xgb, params, cv=5, n_jobs=-1, verbose=True)\n",
    "best_xgb = clf_xgb.fit(X_train_scaled, y_train)\n",
    "\n",
    "clf_performance(best_xgb, \"Random Forest\")"
   ]
  },
  {
   "cell_type": "code",
   "execution_count": null,
   "metadata": {
    "execution": {
     "iopub.execute_input": "2023-01-02T09:55:09.485657Z",
     "iopub.status.busy": "2023-01-02T09:55:09.485241Z",
     "iopub.status.idle": "2023-01-02T09:55:09.501869Z",
     "shell.execute_reply": "2023-01-02T09:55:09.500953Z",
     "shell.execute_reply.started": "2023-01-02T09:55:09.485616Z"
    }
   },
   "outputs": [],
   "source": [
    "y_pred = best_xgb.best_estimator_.predict(X_test_scaled)\n",
    "xgb_submission = {\"PassengerId\": test.PassengerId, \"Survived\": y_pred}\n",
    "submission_xgb = pd.DataFrame(xgb_submission)\n",
    "submission_xgb.to_csv(\"xgb_submission.csv\", index=False)"
   ]
  },
  {
   "cell_type": "code",
   "execution_count": null,
   "metadata": {
    "execution": {
     "iopub.execute_input": "2023-01-02T10:12:53.502102Z",
     "iopub.status.busy": "2023-01-02T10:12:53.501703Z",
     "iopub.status.idle": "2023-01-02T10:14:01.842954Z",
     "shell.execute_reply": "2023-01-02T10:14:01.842004Z",
     "shell.execute_reply.started": "2023-01-02T10:12:53.502067Z"
    }
   },
   "outputs": [],
   "source": [
    "bestLR = best_lr.best_estimator_\n",
    "bestKNN = best_knn.best_estimator_\n",
    "bestSVC = best_svc.best_estimator_\n",
    "bestRF = best_rf.best_estimator_\n",
    "bestXGB = best_xgb.best_estimator_\n",
    "\n",
    "voting_hard = VotingClassifier(estimators = [(\"knn\", bestKNN), (\"svc\", bestSVC), (\"rf\", bestRF)], voting=\"hard\")\n",
    "voting_soft = VotingClassifier(estimators = [(\"knn\", bestKNN), (\"svc\", bestSVC), (\"rf\", bestRF)], voting=\"soft\")\n",
    "voting_all = VotingClassifier(estimators = [(\"knn\", bestKNN), (\"svc\", bestSVC), (\"rf\", bestRF), (\"lr\", bestLR)], voting=\"soft\")\n",
    "voting_xgb = VotingClassifier(estimators = [(\"knn\", bestKNN), (\"svc\", bestSVC), (\"rf\", bestRF), (\"lr\", bestLR), (\"xgb\", bestXGB)], voting=\"soft\")\n",
    "\n",
    "print(\"voting_hard: \", cross_val_score(voting_hard, X_train, y_train, cv=5))\n",
    "print(\"voting_hard mean: \", cross_val_score(voting_hard, X_train, y_train, cv=5).mean())\n",
    "\n",
    "print(\"voting_soft: \", cross_val_score(voting_soft, X_train, y_train, cv=5))\n",
    "print(\"voting_soft mean: \", cross_val_score(voting_soft, X_train, y_train, cv=5).mean())\n",
    "\n",
    "print(\"voting_all: \", cross_val_score(voting_all, X_train, y_train, cv=5))\n",
    "print(\"voting_all mean: \", cross_val_score(voting_all, X_train, y_train, cv=5).mean())\n",
    "\n",
    "print(\"voting_xgb: \", cross_val_score(voting_xgb, X_train, y_train, cv=5))\n",
    "print(\"voting_xgb mean: \", cross_val_score(voting_xgb, X_train, y_train, cv=5).mean())"
   ]
  },
  {
   "cell_type": "code",
   "execution_count": null,
   "metadata": {
    "execution": {
     "iopub.execute_input": "2023-01-02T10:19:28.829862Z",
     "iopub.status.busy": "2023-01-02T10:19:28.829458Z",
     "iopub.status.idle": "2023-01-02T10:19:38.800276Z",
     "shell.execute_reply": "2023-01-02T10:19:38.798993Z",
     "shell.execute_reply.started": "2023-01-02T10:19:28.829830Z"
    }
   },
   "outputs": [],
   "source": [
    "params = {\"weights\": [[1,1,1], [1,2,1], [1,1,2]]}\n",
    "\n",
    "vote_weight = GridSearchCV(voting_hard, params, cv=5, n_jobs=-1, verbose=1)\n",
    "best_weight = vote_weight.fit(X_train_scaled, y_train)\n",
    "clf_performance(best_weight, \"VC Weights\")\n",
    "voting_pred = best_weight.best_estimator_.predict(X_test_scaled)"
   ]
  },
  {
   "cell_type": "code",
   "execution_count": null,
   "metadata": {
    "execution": {
     "iopub.execute_input": "2023-01-02T10:43:42.012305Z",
     "iopub.status.busy": "2023-01-02T10:43:42.011877Z",
     "iopub.status.idle": "2023-01-02T10:43:50.602541Z",
     "shell.execute_reply": "2023-01-02T10:43:50.601228Z",
     "shell.execute_reply.started": "2023-01-02T10:43:42.012264Z"
    }
   },
   "outputs": [],
   "source": [
    "voting_hard.fit(X_train_scaled, y_train)\n",
    "voting_soft.fit(X_train_scaled, y_train)\n",
    "voting_all.fit(X_train_scaled, y_train)\n",
    "voting_xgb.fit(X_train_scaled, y_train)\n",
    "\n",
    "bestRF.fit(X_train_scaled, y_train)\n",
    "y_pred_hard = voting_hard.predict(X_test_scaled)\n",
    "y_pred_rf = bestRF.predict(X_test_scaled)\n",
    "y_pred_soft = voting_soft.predict(X_test_scaled)\n",
    "y_pred_all = voting_all.predict(X_test_scaled)\n",
    "y_pred_xgb = voting_xgb.predict(X_test_scaled)"
   ]
  },
  {
   "cell_type": "code",
   "execution_count": null,
   "metadata": {
    "execution": {
     "iopub.execute_input": "2023-01-02T10:48:50.868485Z",
     "iopub.status.busy": "2023-01-02T10:48:50.867786Z",
     "iopub.status.idle": "2023-01-02T10:48:50.879811Z",
     "shell.execute_reply": "2023-01-02T10:48:50.878416Z",
     "shell.execute_reply.started": "2023-01-02T10:48:50.868450Z"
    }
   },
   "outputs": [],
   "source": [
    "final_rf = {\"PassengerId\": test.PassengerId, \"Survived\": y_pred_rf}\n",
    "submission_rf = pd.DataFrame(final_rf)\n",
    "\n",
    "final_hard = {\"PassengerId\": test.PassengerId, \"Survived\": y_pred_hard}\n",
    "submission_hard = pd.DataFrame(final_hard)\n",
    "\n",
    "final_soft = {\"PassengerId\": test.PassengerId, \"Survived\": y_pred_soft}\n",
    "submission_soft = pd.DataFrame(final_soft)\n",
    "\n",
    "final_all = {\"PassengerId\": test.PassengerId, \"Survived\": y_pred_all}\n",
    "submission_all = pd.DataFrame(final_all)\n",
    "\n",
    "final_xgb = {\"PassengerId\": test.PassengerId, \"Survived\": y_pred_xgb}\n",
    "submission_xgb = pd.DataFrame(final_xgb)\n",
    "\n",
    "final_datas = {\"PassengerId\": test.PassengerId, \"Survived\": y_pred_rf, \n",
    "               \"Survived\": y_pred_hard, \"Survived\": y_pred_soft,\n",
    "               \"Survived\": y_pred_all, \"Survived\": y_pred_xgb}\n",
    "comparison = pd.DataFrame(final_datas)\n"
   ]
  },
  {
   "cell_type": "code",
   "execution_count": null,
   "metadata": {
    "execution": {
     "iopub.execute_input": "2023-01-02T11:04:07.755778Z",
     "iopub.status.busy": "2023-01-02T11:04:07.755305Z",
     "iopub.status.idle": "2023-01-02T11:04:07.773053Z",
     "shell.execute_reply": "2023-01-02T11:04:07.771644Z",
     "shell.execute_reply.started": "2023-01-02T11:04:07.755737Z"
    }
   },
   "outputs": [],
   "source": [
    "submission_rf.to_csv(\"submission_rf.csv\", index=False)\n",
    "submission_hard.to_csv(\"submission_hard.csv\", index=False)\n",
    "submission_soft.to_csv(\"submission_soft.csv\", index=False)\n",
    "submission_all.to_csv(\"submission_all.csv\", index=False)\n",
    "submission_xgb.to_csv(\"submission_xgb.csv\", index=False)"
   ]
  }
 ],
 "metadata": {
  "kernelspec": {
   "display_name": "Python 3 (ipykernel)",
   "language": "python",
   "name": "python3"
  },
  "language_info": {
   "codemirror_mode": {
    "name": "ipython",
    "version": 3
   },
   "file_extension": ".py",
   "mimetype": "text/x-python",
   "name": "python",
   "nbconvert_exporter": "python",
   "pygments_lexer": "ipython3",
   "version": "3.10.7"
  }
 },
 "nbformat": 4,
 "nbformat_minor": 4
}
